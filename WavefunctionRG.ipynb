{
 "cells": [
  {
   "cell_type": "code",
   "execution_count": null,
   "id": "81f399ed-10cd-4e48-8ab7-257b1719b433",
   "metadata": {},
   "outputs": [],
   "source": [
    "%load_ext autoreload\n",
    "%autoreload 2\n",
    "\n",
    "from tqdm import tqdm\n",
    "from math import sqrt,erf\n",
    "from multiprocessing import Pool\n",
    "from itertools import product, repeat\n",
    "from matplotlib import pyplot as plt\n",
    "from matplotlib import animation\n",
    "import matplotlib as mpl\n",
    "import numpy as np\n",
    "from varname import nameof\n",
    "from itertools import product\n",
    "from matplotlib.cm import get_cmap\n",
    "import colorcet as cc\n",
    "import subprocess\n",
    "import os, shutil\n",
    "from time import time\n",
    "import functools\n",
    "from scipy import special\n",
    "import scipy\n",
    "from IPython.display import display, clear_output\n",
    "import wavefunctionRGlib as wfrg\n",
    "\n",
    "\n",
    "plt.style.use('ggplot')\n",
    "markers = [\"o\", \"X\", \"P\", \"p\", \"*\"]\n",
    "cols = [p['color'] for p in plt.rcParams['axes.prop_cycle']]\n",
    "plt.rc('text.latex', preamble=r'\\usepackage{amsmath}\\usepackage{braket}\\usepackage{nicefrac}')\n",
    "plt.rcParams.update({'font.size': 30,\n",
    "                     'figure.figsize': (11,7),\n",
    "                     'axes.facecolor': 'white',\n",
    "                     'axes.edgecolor': 'lightgray',\n",
    "                     \"figure.autolayout\": 'True',\n",
    "                     'axes.xmargin': 0.03,\n",
    "                     'axes.ymargin': 0.05,\n",
    "                     'axes.grid': False,\n",
    "                     'axes.linewidth': 5,\n",
    "                     'lines.markersize': 15,\n",
    "                     'text.usetex': True,\n",
    "                     'lines.linewidth': 8,\n",
    "                     \"legend.frameon\": True,\n",
    "                     \"legend.framealpha\": 0.7,\n",
    "                     \"legend.handletextpad\": 1,\n",
    "                     \"legend.edgecolor\": \"black\",\n",
    "                     \"legend.handlelength\": 1,\n",
    "                     \"legend.labelspacing\": 0,\n",
    "                     \"legend.columnspacing\": 1,\n",
    "                     \"legend.fontsize\": 35,\n",
    "                    })\n",
    "linestyles = [\"-\", \"--\", \":\"]\n",
    "bbox = dict(boxstyle=\"round\", facecolor=\"lightgray\")\n",
    "\n",
    "D0 = 1\n",
    "deltaD = 0.001\n",
    "plt.plot([], [])\n",
    "plt.show()\n",
    "clear_output()"
   ]
  },
  {
   "cell_type": "code",
   "execution_count": null,
   "id": "be4980e0-0f11-4b3f-a22f-744e1ee2ea58",
   "metadata": {},
   "outputs": [],
   "source": [
    "def get_RG_flow(J0_by_D0, Ub_by_J=0, plot=False):\n",
    "    \"\"\" Returns the flow of couplings in the form of two ndarrays J and D.\n",
    "    Each ndarray is in ascending order of the bandwidth. \"\"\"\n",
    "    J0 = D0 * J0_by_D0\n",
    "    Ub = - Ub_by_J * J0\n",
    "    omega = -D0/2\n",
    "    \n",
    "    ### initialise arrays with UV values\n",
    "    D = [D0]\n",
    "    J = [J0]\n",
    "    \n",
    "    ### apply URG transformations until bandwith vanishes\n",
    "    ### or J reduces to zero.\n",
    "    while D[-1] >= deltaD and J[-1] >= 0:\n",
    "        \n",
    "        ### URG equation\n",
    "        deltaJ = - J[-1] * (J[-1] + 4 * Ub) / (omega - D[-1]/2 + J[-1]/4) * deltaD\n",
    "        \n",
    "        ### Check if denominator has changed sign, \n",
    "        ### then append renormalised values to array\n",
    "        if (omega - (D[-1] - deltaD)/2 + (J[-1] + deltaJ)/4) * (omega - D0/2 + J0/4) > 0:\n",
    "            D.append(D[-1] - deltaD)\n",
    "            J.append(J[-1] + deltaJ)\n",
    "        else:\n",
    "            break\n",
    "    \n",
    "    ### plot values\n",
    "    if plot:\n",
    "        plt.plot(np.array(D)/D0, np.array(J)/J0, marker=\"o\")\n",
    "        plt.xlabel(r\"$D/D_0$\")\n",
    "        plt.ylabel(r\"$J/J_0$\")\n",
    "    return np.flip(D), np.flip(J)\n",
    "\n",
    "for J0_by_D0 in np.linspace(0.4, 5, 100):\n",
    "    D, J = get_RG_flow(J0_by_D0)\n",
    "    plt.scatter(J0_by_D0, D[0] / deltaD, color=cols[0])\n",
    "    # plt.scatter(J0_by_D0, J[0], color=cols[1])\n",
    "plt.xscale(\"log\")\n",
    "plt.show()"
   ]
  },
  {
   "cell_type": "code",
   "execution_count": null,
   "id": "653e42bd-ea78-416b-ba31-b3b9e648b8cf",
   "metadata": {},
   "outputs": [],
   "source": [
    "def KondoMERG(J0_by_D0, num_entangled, both_sectors=False):\n",
    "    D, J = get_RG_flow(J0_by_D0)\n",
    "    omega = -D0/2\n",
    "    time_list = []\n",
    "    for num_IOMs in range(2, 5, 2):\n",
    "        t = time()\n",
    "        Ek = np.linspace(D[0] - deltaD * num_entangled, D[0], num_entangled)\n",
    "        if both_sectors:\n",
    "            alpha_arr = np.repeat([Ji / (2 * (omega - Di/2 + Ji/4)) for Ji, Di in zip(J, D)], 2)[:num_IOMs]\n",
    "            IOMconfigs = np.tile([1, 0], num_IOMs // 2)\n",
    "        else:\n",
    "            alpha_arr = [Ji / (2 * (omega - Di/2 + Ji/4)) for Ji, Di in zip(J, D)][:num_IOMs]\n",
    "            IOMconfigs = [0] * num_IOMs\n",
    "        # print (Ek)\n",
    "        init_couplings = [Ek, J[0], 0]\n",
    "        decomposition_arr = wfrg.getWavefunctionRG(init_couplings, alpha_arr, num_entangled, num_IOMs, \n",
    "                                                   IOMconfigs, \"get_Kondo_hamiltonian\", \"getEtaKondo\"\n",
    "                                                  )\n",
    "        computation_results = wfrg.computations(decomposition_arr,\n",
    "                                                {\"VNE\": [2, 3],\n",
    "                                                }\n",
    "                                               )\n",
    "        time_list.append(time() - t)\n",
    "        # plt.plot(computation_results[\"VNE\"], 'o')\n",
    "        # plt.show()\n",
    "        # plt.plot(computation_results[\"VNE\"], 'o')\n",
    "    print (time_list)\n",
    "\n",
    "KondoMERG(0.5, 2, True)"
   ]
  },
  {
   "cell_type": "code",
   "execution_count": null,
   "id": "861f6eee-7f93-49ca-b12b-e896ef857388",
   "metadata": {},
   "outputs": [],
   "source": [
    "t1 = [0.02578449249267578, 0.03951835632324219, 0.05424642562866211, 0.06536149978637695, 0.05416464805603027, 0.11724495887756348, 0.1581580638885498, 0.1907508373260498, 0.23258066177368164, 0.2877771854400635, 0.34641194343566895, 0.4238739013671875, 0.5073325634002686, 0.6056020259857178, 0.7212538719177246, 0.8474161624908447, 0.9987595081329346, 1.1645879745483398, 1.3628499507904053, 1.5197420120239258, 1.7492899894714355, 2.011781692504883, 2.321974277496338, 2.5959856510162354]\n",
    "t2 = [0.015064001083374023, 0.013162851333618164, 0.017250776290893555, 0.024877309799194336, 0.036719322204589844, 0.053192853927612305, 0.07523965835571289, 0.10435986518859863, 0.13912582397460938, 0.18130946159362793, 0.2343451976776123, 0.2945723533630371, 0.3635547161102295, 0.4443998336791992, 0.5391242504119873, 0.649742603302002, 0.7718939781188965, 0.9061899185180664, 1.0617239475250244, 1.2393484115600586, 1.4299988746643066, 1.718707799911499, 1.8764243125915527, 2.137733221054077]\n",
    "plt.plot(t1, label=r\"old\")\n",
    "plt.plot(t2, label=r\"new\")\n",
    "plt.legend()"
   ]
  },
  {
   "cell_type": "code",
   "execution_count": null,
   "id": "dc108e78-bc86-4bd6-a8c8-27fbb4971066",
   "metadata": {},
   "outputs": [],
   "source": [
    "len([])"
   ]
  },
  {
   "cell_type": "code",
   "execution_count": null,
   "id": "4f352120-6c7d-4c3d-9983-0c8a87c7aeab",
   "metadata": {},
   "outputs": [],
   "source": [
    "basis = wfrg.get_basis(4)"
   ]
  },
  {
   "cell_type": "code",
   "execution_count": null,
   "id": "c40fd705-6874-4347-9c66-36a0b47354e0",
   "metadata": {},
   "outputs": [],
   "source": [
    "x = dict([['a', 1], ['b', 2]])"
   ]
  },
  {
   "cell_type": "code",
   "execution_count": null,
   "id": "ab365cc1-d203-41b1-b43b-628bdcab0175",
   "metadata": {},
   "outputs": [],
   "source": [
    "[i for i in x.values()]"
   ]
  },
  {
   "cell_type": "code",
   "execution_count": null,
   "id": "05a93999-c930-4409-9224-135a9c240d9e",
   "metadata": {},
   "outputs": [],
   "source": [
    "_ = wfrg.get_computational_coefficients(basis, [0,1,1,0])\n"
   ]
  },
  {
   "cell_type": "code",
   "execution_count": null,
   "id": "08606b39-46a6-4aa8-8084-e94a99fc63d3",
   "metadata": {},
   "outputs": [],
   "source": [
    "print (wfrg.visualise_state(basis, [0,1,-1,0]))"
   ]
  },
  {
   "cell_type": "code",
   "execution_count": null,
   "id": "7201ae05-e0fc-44b5-841a-c0119fcb32c0",
   "metadata": {},
   "outputs": [],
   "source": [
    "from collections import defaultdict\n",
    "\n",
    "my_dict = defaultdict(float)\n",
    "my_dict[\"a\"] = 1"
   ]
  },
  {
   "cell_type": "code",
   "execution_count": null,
   "id": "40be4206-0c70-45b9-a836-b420e9bcf03c",
   "metadata": {},
   "outputs": [],
   "source": [
    "my_dict[\"b\"] += 1"
   ]
  },
  {
   "cell_type": "code",
   "execution_count": null,
   "id": "3a8727cd-aa5f-4bd9-92bb-ef7e7f8410e3",
   "metadata": {},
   "outputs": [],
   "source": [
    "x = bytearray(\"10\", encoding='ascii')"
   ]
  },
  {
   "cell_type": "code",
   "execution_count": null,
   "id": "b2b04da9-9e1e-4a53-9c0e-2584f412eb0f",
   "metadata": {},
   "outputs": [],
   "source": [
    "from operator import itemgetter"
   ]
  },
  {
   "cell_type": "code",
   "execution_count": null,
   "id": "2ba13ca3-5362-4f62-9ba1-f6c8d69cedd0",
   "metadata": {},
   "outputs": [],
   "source": [
    "a = \"abcd\"\n",
    "\"\".join(itemgetter(*(1,3))(a))"
   ]
  },
  {
   "cell_type": "code",
   "execution_count": null,
   "id": "cc99cead-9b87-4df0-9281-cbe342047599",
   "metadata": {},
   "outputs": [],
   "source": []
  }
 ],
 "metadata": {
  "kernelspec": {
   "display_name": "Python 3 (ipykernel)",
   "language": "python",
   "name": "python3"
  },
  "language_info": {
   "codemirror_mode": {
    "name": "ipython",
    "version": 3
   },
   "file_extension": ".py",
   "mimetype": "text/x-python",
   "name": "python",
   "nbconvert_exporter": "python",
   "pygments_lexer": "ipython3",
   "version": "3.9.16"
  },
  "widgets": {
   "application/vnd.jupyter.widget-state+json": {
    "state": {},
    "version_major": 2,
    "version_minor": 0
   }
  }
 },
 "nbformat": 4,
 "nbformat_minor": 5
}
