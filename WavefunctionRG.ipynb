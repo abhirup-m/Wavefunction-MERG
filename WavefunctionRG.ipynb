{
 "cells": [
  {
   "cell_type": "code",
   "execution_count": null,
   "id": "81f399ed-10cd-4e48-8ab7-257b1719b433",
   "metadata": {},
   "outputs": [],
   "source": [
    "%load_ext autoreload\n",
    "%autoreload 2\n",
    "\n",
    "from tqdm import tqdm\n",
    "from math import sqrt,erf\n",
    "from multiprocessing import Pool\n",
    "from itertools import product, repeat\n",
    "from matplotlib import pyplot as plt\n",
    "from matplotlib import animation\n",
    "import matplotlib as mpl\n",
    "import numpy as np\n",
    "from varname import nameof\n",
    "from itertools import product\n",
    "from matplotlib.cm import get_cmap\n",
    "import colorcet as cc\n",
    "import subprocess\n",
    "import os, shutil\n",
    "import time\n",
    "import functools\n",
    "from scipy import special\n",
    "import scipy\n",
    "from IPython.display import display, clear_output\n",
    "import wavefunctionRGlib as wfrg\n",
    "\n",
    "\n",
    "plt.style.use('ggplot')\n",
    "markers = [\"o\", \"X\", \"P\", \"p\", \"*\"]\n",
    "cols = [p['color'] for p in plt.rcParams['axes.prop_cycle']]\n",
    "plt.rc('text.latex', preamble=r'\\usepackage{amsmath}\\usepackage{braket}\\usepackage{nicefrac}')\n",
    "plt.rcParams.update({'font.size': 30,\n",
    "                     'figure.figsize': (11,7),\n",
    "                     'axes.facecolor': 'white',\n",
    "                     'axes.edgecolor': 'lightgray',\n",
    "                     \"figure.autolayout\": 'True',\n",
    "                     'axes.xmargin': 0.03,\n",
    "                     'axes.ymargin': 0.05,\n",
    "                     'axes.grid': False,\n",
    "                     'axes.linewidth': 5,\n",
    "                     'lines.markersize': 15,\n",
    "                     'text.usetex': True,\n",
    "                     'lines.linewidth': 8,\n",
    "                     \"legend.frameon\": True,\n",
    "                     \"legend.framealpha\": 0.7,\n",
    "                     \"legend.handletextpad\": 1,\n",
    "                     \"legend.edgecolor\": \"black\",\n",
    "                     \"legend.handlelength\": 1,\n",
    "                     \"legend.labelspacing\": 0,\n",
    "                     \"legend.columnspacing\": 1,\n",
    "                     \"legend.fontsize\": 35,\n",
    "                    })\n",
    "linestyles = [\"-\", \"--\", \":\"]\n",
    "bbox = dict(boxstyle=\"round\", facecolor=\"lightgray\")\n",
    "\n",
    "D0 = 1\n",
    "deltaD = 0.001\n",
    "plt.plot([], [])\n",
    "plt.show()\n",
    "clear_output()"
   ]
  },
  {
   "cell_type": "code",
   "execution_count": null,
   "id": "be4980e0-0f11-4b3f-a22f-744e1ee2ea58",
   "metadata": {},
   "outputs": [],
   "source": [
    "def get_RG_flow(J0_by_D0, Ub_by_J=0, plot=False):\n",
    "    \"\"\" Returns the flow of couplings in the form of two ndarrays J and D.\n",
    "    Each ndarray is in ascending order of the bandwidth. \"\"\"\n",
    "    J0 = D0 * J0_by_D0\n",
    "    Ub = - Ub_by_J * J0\n",
    "    omega = -D0/2\n",
    "    \n",
    "    ### initialise arrays with UV values\n",
    "    D = [D0]\n",
    "    J = [J0]\n",
    "    \n",
    "    ### apply URG transformations until bandwith vanishes\n",
    "    ### or J reduces to zero.\n",
    "    while D[-1] >= deltaD and J[-1] >= 0:\n",
    "        \n",
    "        ### URG equation\n",
    "        deltaJ = - J[-1] * (J[-1] + 4 * Ub) / (omega - D[-1]/2 + J[-1]/4) * deltaD\n",
    "        \n",
    "        ### Check if denominator has changed sign, \n",
    "        ### then append renormalised values to array\n",
    "        if (omega - (D[-1] - deltaD)/2 + (J[-1] + deltaJ)/4) * (omega - D0/2 + J0/4) > 0:\n",
    "            D.append(D[-1] - deltaD)\n",
    "            J.append(J[-1] + deltaJ)\n",
    "        else:\n",
    "            break\n",
    "    \n",
    "    ### plot values\n",
    "    if plot:\n",
    "        plt.plot(np.array(D)/D0, np.array(J)/J0, marker=\"o\")\n",
    "        plt.xlabel(r\"$D/D_0$\")\n",
    "        plt.ylabel(r\"$J/J_0$\")\n",
    "    return np.flip(D), np.flip(J)\n",
    "\n",
    "for J0_by_D0 in np.linspace(0.4, 5, 100):\n",
    "    D, J = get_RG_flow(J0_by_D0)\n",
    "    plt.scatter(J0_by_D0, D[0] / deltaD, color=cols[0])\n",
    "    # plt.scatter(J0_by_D0, J[0], color=cols[1])\n",
    "plt.xscale(\"log\")\n",
    "plt.show()"
   ]
  },
  {
   "cell_type": "code",
   "execution_count": null,
   "id": "653e42bd-ea78-416b-ba31-b3b9e648b8cf",
   "metadata": {},
   "outputs": [],
   "source": [
    "def KondoMERG(J0_by_D0, num_entangled, both_sectors=False):\n",
    "    D, J = get_RG_flow(J0_by_D0)\n",
    "    omega = -D0/2\n",
    "    # for num_IOMs in range(2, 15, 2):\n",
    "    for num_IOMs in [8]:\n",
    "        Ek = np.linspace(D[0] - deltaD * num_entangled, D[0], num_entangled)\n",
    "        if both_sectors:\n",
    "            alpha_arr = np.repeat([Ji / (2 * (omega - Di/2 + Ji/4)) for Ji, Di in zip(J, D)], 2)[:num_IOMs]\n",
    "            IOMconfigs = np.tile([1, 0], num_IOMs // 2)\n",
    "        else:\n",
    "            alpha_arr = [Ji / (2 * (omega - Di/2 + Ji/4)) for Ji, Di in zip(J, D)][:num_IOMs]\n",
    "            IOMconfigs = [0] * num_IOMs\n",
    "        # print (Ek)\n",
    "        init_couplings = [Ek, J[0], 0]\n",
    "        decomposition_arr, time_list = wfrg.getWavefunctionRG(init_couplings, alpha_arr, num_entangled, num_IOMs, \n",
    "                                                   IOMconfigs, \"get_Kondo_hamiltonian\", \"getEtaKondo\"\n",
    "                                                  )\n",
    "        print (decomposition_arr[2])\n",
    "        # computation_results = wfrg.computations(decomposition_arr,\n",
    "                                               #  {\"VNE\": [2, 3],\n",
    "                                               #  }\n",
    "                                               # )\n",
    "        # print (computation_results[\"VNE\"])\n",
    "        # plt.plot(computation_results[\"VNE\"], 'o')\n",
    "        # plt.show()\n",
    "        # plt.plot(computation_results[\"VNE\"], 'o')\n",
    "        return time_list\n",
    "\n",
    "time_list1 = KondoMERG(0.5, 2, True)\n",
    "print (time_list1)"
   ]
  },
  {
   "cell_type": "code",
   "execution_count": null,
   "id": "ef9a57a1-2510-4ee8-9fd6-6010bd0e5f13",
   "metadata": {},
   "outputs": [],
   "source": [
    "time_list2 = [0, 0.2659015655517578, 0.5032176971435547, 0.7721304893493652, 1.1194777488708496, 1.7510268688201904, 4.942323446273804, 24.69196391105652, 284.6942982673645]"
   ]
  },
  {
   "cell_type": "code",
   "execution_count": null,
   "id": "e3946730-5200-41d3-99dc-d4be967b0579",
   "metadata": {},
   "outputs": [],
   "source": [
    "z = {'a': 1, 'b': 2, 'c': 2}\n",
    "z.pop('a', 'b')\n",
    "z"
   ]
  },
  {
   "cell_type": "code",
   "execution_count": null,
   "id": "c1da6f24-8853-49d1-a0f0-cdde9544339f",
   "metadata": {},
   "outputs": [],
   "source": [
    "plt.plot(2**np.arange(3, 11), time_list1[1:], label=\"old\")\n",
    "plt.plot(2**np.arange(3, 11), time_list2[1:], label=\"new\")\n",
    "plt.legend()\n",
    "plt.yscale(\"log\")\n",
    "plt.xscale(\"log\")\n",
    "plt.show()"
   ]
  },
  {
   "cell_type": "code",
   "execution_count": null,
   "id": "cc99cead-9b87-4df0-9281-cbe342047599",
   "metadata": {},
   "outputs": [],
   "source": [
    "def func(args):\n",
    "    x, n = args\n",
    "    return x**(3**3**2)\n",
    "\n",
    "num = 1000\n",
    "power = 10\n",
    "t = time()\n",
    "results1 = [func((x, power)) for x in range(1, num)]\n",
    "print (time() - t)\n",
    "t = time()\n",
    "results2 = Pool().map(func, [(x, power) for x in range(1, num)], chunksize=50)\n",
    "# print (workers[0].get())\n",
    "# print (workers[1])\n",
    "# results = [worker.get() for worker in workers]\n",
    "print (time() - t)"
   ]
  },
  {
   "cell_type": "code",
   "execution_count": null,
   "id": "63587874-8370-4c58-b345-a82344765553",
   "metadata": {},
   "outputs": [],
   "source": [
    "def func(x):\n",
    "    return np.arange(3)**x**4\n",
    "\n",
    "p = Pool()\n",
    "result = p.apply_async(func, (2,)).get()\n",
    "print(result)"
   ]
  },
  {
   "cell_type": "code",
   "execution_count": null,
   "id": "710fb74a-6e15-4f0c-af96-afa0cfe52127",
   "metadata": {},
   "outputs": [],
   "source": [
    "import os\n",
    "os.cpu_count()"
   ]
  },
  {
   "cell_type": "code",
   "execution_count": null,
   "id": "e369d837-f749-46b8-ac39-cc8f68443ff2",
   "metadata": {},
   "outputs": [],
   "source": [
    "d1 = dict([(\"a\", 1), (\"b\", 2)])\n",
    "d2 = dict([(\"a\", 0), (\"b\", 0), (\"c\", 0)])\n",
    "d2.update(d1)\n",
    "d2"
   ]
  },
  {
   "cell_type": "code",
   "execution_count": null,
   "id": "e29db127-d61c-4421-b4ab-8ba2d6b12fb9",
   "metadata": {},
   "outputs": [],
   "source": [
    "import json\n",
    "d = {'10': 1, '01': 2}\n",
    "with open('myfile.txt', 'w') as f:\n",
    "    json.dump(d, f)\n",
    "with open('myfile.txt', 'r') as f:\n",
    "    dd = json.load(f)\n",
    "print (dd)"
   ]
  },
  {
   "cell_type": "code",
   "execution_count": null,
   "id": "0073b9b8-a748-4c65-8765-8c1f3933c31a",
   "metadata": {},
   "outputs": [],
   "source": [
    "V = np.array([[0,0], [0,1], [1,0], [1,1]])\n",
    "V[V[:,1] == 0]"
   ]
  },
  {
   "cell_type": "code",
   "execution_count": null,
   "id": "8540e4b2-aca1-4bdd-9cc2-c0ae92684035",
   "metadata": {},
   "outputs": [],
   "source": [
    "loop.close()"
   ]
  },
  {
   "cell_type": "code",
   "execution_count": null,
   "id": "8b2167aa-e522-4806-bea5-01a97c787930",
   "metadata": {},
   "outputs": [],
   "source": []
  }
 ],
 "metadata": {
  "kernelspec": {
   "display_name": "Python 3 (ipykernel)",
   "language": "python",
   "name": "python3"
  },
  "language_info": {
   "codemirror_mode": {
    "name": "ipython",
    "version": 3
   },
   "file_extension": ".py",
   "mimetype": "text/x-python",
   "name": "python",
   "nbconvert_exporter": "python",
   "pygments_lexer": "ipython3",
   "version": "3.9.16"
  },
  "widgets": {
   "application/vnd.jupyter.widget-state+json": {
    "state": {},
    "version_major": 2,
    "version_minor": 0
   }
  }
 },
 "nbformat": 4,
 "nbformat_minor": 5
}
