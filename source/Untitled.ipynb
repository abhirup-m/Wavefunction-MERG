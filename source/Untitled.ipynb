{
 "cells": [
  {
   "cell_type": "code",
   "execution_count": 42,
   "id": "47f130fd-c1af-4e45-aa64-f66a0612c493",
   "metadata": {},
   "outputs": [
    {
     "data": {
      "text/plain": [
       "applyTermOnBasisState (generic function with 1 method)"
      ]
     },
     "execution_count": 42,
     "metadata": {},
     "output_type": "execute_result"
    }
   ],
   "source": [
    "function applyTermOnBasisState(bstate, int_kind, site_indices)\n",
    "    site_indices = [x + 1 for x in site_indices]\n",
    "    # check that the operator is composed only out of +,-,n,h\n",
    "    @assert !(0 in [occursin(ch, \"+-nh\") for ch in int_kind])\n",
    "\n",
    "    # check that the number of operators in int_kind matches the number of sites in site_indices.\n",
    "    @assert length(int_kind) == length(site_indices)\n",
    "\n",
    "    # final_coeff stores any factors that might emerge from applying the operator.\n",
    "    final_coeff = 1\n",
    "\n",
    "    # loop over all characters in the operator string, along with the corresponding site indices.\n",
    "    for (op, index) in zip(reverse(int_kind), reverse(site_indices))\n",
    "        # if the character is a number or a hole operator, just give the corresponding occupancy.\n",
    "        if op == 'n'\n",
    "            final_coeff *= parse(Int, bstate[index])\n",
    "        elseif op == 'h'\n",
    "                final_coeff *= 1 - parse(Int, bstate[index])\n",
    "            # if the character is a create or annihilate operator, check if their is room for that.\n",
    "            # If not, set final_coeff to zero. If there is, flip the occupancy of the site.\n",
    "        elseif op == '+'\n",
    "            println(op, parse(Int, bstate[index]))\n",
    "            if parse(Int, bstate[index]) == 1\n",
    "                final_coeff *= 0\n",
    "            else\n",
    "                final_coeff *= (-1)^sum([parse(Int, ch) for ch in bstate[1:index-1]])\n",
    "                bstate = string(bstate[1:index-1], \"1\", (if (index < length(bstate)) bstate[index+1:end] else \"\" end))\n",
    "            end\n",
    "        elseif op == '-'\n",
    "            println(op, parse(Int, bstate[index]))\n",
    "            if parse(Int, bstate[index]) == 0\n",
    "                final_coeff *= 0\n",
    "            else\n",
    "                final_coeff *= (-1)^sum([parse(Int, ch) for ch in bstate[1:index-1]])\n",
    "                bstate = string(bstate[1:index-1], \"0\", (if (index < length(bstate)) bstate[index+1:end] else \"\" end))\n",
    "            end\n",
    "        end\n",
    "    end\n",
    "    return bstate, final_coeff\n",
    "\n",
    "end"
   ]
  },
  {
   "cell_type": "code",
   "execution_count": 43,
   "id": "fae837a4-1e96-4259-a724-833a74efa1e5",
   "metadata": {},
   "outputs": [
    {
     "name": "stdout",
     "output_type": "stream",
     "text": [
      "+0\n",
      "-1\n"
     ]
    },
    {
     "data": {
      "text/plain": [
       "(\"011\", -1)"
      ]
     },
     "execution_count": 43,
     "metadata": {},
     "output_type": "execute_result"
    }
   ],
   "source": [
    "applyTermOnBasisState(\"101\", \"-+\", [0, 1])"
   ]
  },
  {
   "cell_type": "code",
   "execution_count": null,
   "id": "f73a4ffa-edbb-4df9-b732-c8adfe3db72b",
   "metadata": {},
   "outputs": [],
   "source": []
  }
 ],
 "metadata": {
  "kernelspec": {
   "display_name": "Julia 1.8.5",
   "language": "julia",
   "name": "julia-1.8"
  },
  "language_info": {
   "file_extension": ".jl",
   "mimetype": "application/julia",
   "name": "julia",
   "version": "1.10.0"
  },
  "widgets": {
   "application/vnd.jupyter.widget-state+json": {
    "state": {},
    "version_major": 2,
    "version_minor": 0
   }
  }
 },
 "nbformat": 4,
 "nbformat_minor": 5
}
