{
 "cells": [
  {
   "cell_type": "code",
   "execution_count": 1,
   "id": "81f399ed-10cd-4e48-8ab7-257b1719b433",
   "metadata": {},
   "outputs": [],
   "source": [
    "%load_ext autoreload\n",
    "%autoreload 2\n",
    "\n",
    "from tqdm import tqdm\n",
    "from math import sqrt,erf\n",
    "from multiprocessing import Pool\n",
    "from itertools import product, repeat\n",
    "from matplotlib import pyplot as plt\n",
    "from matplotlib import animation\n",
    "import matplotlib as mpl\n",
    "import numpy as np\n",
    "from itertools import product\n",
    "from matplotlib.cm import get_cmap\n",
    "# import colorcet as cc\n",
    "import subprocess\n",
    "import os, shutil\n",
    "from time import time\n",
    "import functools\n",
    "from scipy import special\n",
    "import scipy\n",
    "from IPython.display import display, clear_output\n",
    "import fermionise as fermionise\n",
    "import eigenstateRG as eigRG\n",
    "\n",
    "\n",
    "\n",
    "plt.style.use('ggplot')\n",
    "markers = [\"o\", \"X\", \"P\", \"p\", \"*\"]\n",
    "cols = [p['color'] for p in plt.rcParams['axes.prop_cycle']]\n",
    "plt.rc('text.latex', preamble=r'\\usepackage{amsmath}\\usepackage{braket}\\usepackage{nicefrac}')\n",
    "plt.rcParams.update({'font.size': 30,\n",
    "                     'figure.figsize': (11,7),\n",
    "                     'axes.facecolor': 'white',\n",
    "                     'axes.edgecolor': 'lightgray',\n",
    "                     \"figure.autolayout\": 'True',\n",
    "                     'axes.xmargin': 0.03,\n",
    "                     'axes.ymargin': 0.05,\n",
    "                     'axes.grid': False,\n",
    "                     'axes.linewidth': 5,\n",
    "                     'lines.markersize': 15,\n",
    "                     'text.usetex': True,\n",
    "                     'lines.linewidth': 8,\n",
    "                     \"legend.frameon\": True,\n",
    "                     \"legend.framealpha\": 0.7,\n",
    "                     \"legend.handletextpad\": 1,\n",
    "                     \"legend.edgecolor\": \"black\",\n",
    "                     \"legend.handlelength\": 1,\n",
    "                     \"legend.labelspacing\": 0,\n",
    "                     \"legend.columnspacing\": 1,\n",
    "                     \"legend.fontsize\": 35,\n",
    "                    })\n",
    "linestyles = [\"-\", \"--\", \":\"]\n",
    "bbox = dict(boxstyle=\"round\", facecolor=\"lightgray\")\n",
    "\n",
    "D0 = 1\n",
    "deltaD = 0.001\n",
    "plt.plot([], [])\n",
    "plt.show()\n",
    "clear_output()"
   ]
  },
  {
   "cell_type": "code",
   "execution_count": null,
   "id": "be4980e0-0f11-4b3f-a22f-744e1ee2ea58",
   "metadata": {},
   "outputs": [],
   "source": [
    "def get_RG_flow(J0_by_D0, Ub_by_J=0, plot=False):\n",
    "    \"\"\" Returns the flow of couplings in the form of two ndarrays J and D.\n",
    "    Each ndarray is in ascending order of the bandwidth. \"\"\"\n",
    "    J0 = D0 * J0_by_D0\n",
    "    Ub = - Ub_by_J * J0\n",
    "    omega = -D0/2\n",
    "    \n",
    "    ### initialise arrays with UV values\n",
    "    D = [D0]\n",
    "    J = [J0]\n",
    "    \n",
    "    ### apply URG transformations until bandwith vanishes\n",
    "    ### or J reduces to zero.\n",
    "    while D[-1] >= deltaD and J[-1] >= 0:\n",
    "        \n",
    "        ### URG equation\n",
    "        deltaJ = - J[-1] * (J[-1] + 4 * Ub) / (omega - D[-1]/2 + J[-1]/4) * deltaD\n",
    "        \n",
    "        ### Check if denominator has changed sign, \n",
    "        ### then append renormalised values to array\n",
    "        if (omega - (D[-1] - deltaD)/2 + (J[-1] + deltaJ)/4) * (omega - D0/2 + J0/4) > 0:\n",
    "            D.append(D[-1] - deltaD)\n",
    "            J.append(J[-1] + deltaJ)\n",
    "        else:\n",
    "            break\n",
    "    \n",
    "    ### plot values\n",
    "    if plot:\n",
    "        plt.plot(np.array(D)/D0, np.array(J)/J0, marker=\"o\")\n",
    "        plt.xlabel(r\"$D/D_0$\")\n",
    "        plt.ylabel(r\"$J/J_0$\")\n",
    "    return np.flip(D), np.flip(J)"
   ]
  },
  {
   "cell_type": "code",
   "execution_count": null,
   "id": "653e42bd-ea78-416b-ba31-b3b9e648b8cf",
   "metadata": {},
   "outputs": [],
   "source": [
    "def KondoMERG(J0_by_D0, num_entangled, num_IOMs):\n",
    "    D, J = get_RG_flow(J0_by_D0)\n",
    "    omega = -D0/2\n",
    "    Ek = np.linspace(deltaD, D[0], num_entangled)\n",
    "    alpha_arr = [1]#[Ji / (2 * (omega - Di/2 + Ji/4)) for Ji, Di in zip(J, D)][:num_IOMs]\n",
    "    init_couplings = [Ek, J[0], 0]\n",
    "    decomposition_arr = eigRG.getWavefunctionRG(init_couplings, alpha_arr, num_entangled, num_IOMs, \n",
    "                                                fermionise.getKondoHamiltonian, eigRG.getEtaKondo\n",
    "                                              )\n",
    "    print (decomposition_arr[0])\n",
    "    print (decomposition_arr[1])\n",
    "    computation_results = eigRG.computations(decomposition_arr,\n",
    "                                            {\"VNE\": [0,1,2,3],\n",
    "                                            }\n",
    "                                           )\n",
    "    return num_entangled, num_IOMs, computation_results"
   ]
  },
  {
   "cell_type": "code",
   "execution_count": null,
   "id": "1446b047-bd58-4a06-98bc-4e7c6827a1f8",
   "metadata": {},
   "outputs": [],
   "source": [
    "num_entangled, num_IOMs, computation_results = KondoMERG(0.1, 1, 1)\n",
    "# plt.plot(range(num_entangled, num_entangled + 2 * num_IOMs + 1, 2), computation_results[\"I2\"], marker='o')\n",
    "# plt.ylabel(r\"$I_2(d:k_1)$\")\n",
    "# plt.xlabel(\"number of entangled k-states\")\n",
    "# plt.show()"
   ]
  },
  {
   "cell_type": "code",
   "execution_count": 2,
   "id": "a1dd2f4e-a7d0-430f-b03b-23ac73fda46a",
   "metadata": {},
   "outputs": [
    {
     "data": {
      "application/vnd.jupyter.widget-view+json": {
       "model_id": "27e516bacaee411d9d7309d91d1dcf62",
       "version_major": 2,
       "version_minor": 0
      },
      "text/plain": [
       "Obtaining operators for n .:   0%|          | 0/8 [00:00<?, ?it/s]"
      ]
     },
     "metadata": {},
     "output_type": "display_data"
    },
    {
     "data": {
      "application/vnd.jupyter.widget-view+json": {
       "model_id": "9a235db3f1314a88807cdba47fa111d1",
       "version_major": 2,
       "version_minor": 0
      },
      "text/plain": [
       "Obtaining operators for n+- .:   0%|          | 0/64 [00:00<?, ?it/s]"
      ]
     },
     "metadata": {},
     "output_type": "display_data"
    },
    {
     "data": {
      "application/vnd.jupyter.widget-view+json": {
       "model_id": "c8facc7f03174a778413caf093ec2734",
       "version_major": 2,
       "version_minor": 0
      },
      "text/plain": [
       "Obtaining operators for +-+- .:   0%|          | 0/16 [00:00<?, ?it/s]"
      ]
     },
     "metadata": {},
     "output_type": "display_data"
    },
    {
     "data": {
      "application/vnd.jupyter.widget-view+json": {
       "model_id": "6b15ec7ae0464e2eacd5b8a6ee53e3d3",
       "version_major": 2,
       "version_minor": 0
      },
      "text/plain": [
       "Obtaining operators for n .:   0%|          | 0/2 [00:00<?, ?it/s]"
      ]
     },
     "metadata": {},
     "output_type": "display_data"
    }
   ],
   "source": [
    "num_bath = 4\n",
    "mbbasis = fermionise.getBasis(2 * (1 + num_bath), nTot=num_bath + 1)\n",
    "Ek = np.linspace(1, 1, num_bath)\n",
    "fixedPointCouplings = [Ek, 1, 0]\n",
    "KondoHam = fermionise.getKondoHamiltonian(mbbasis, num_bath, fixedPointCouplings)\n",
    "# eigvals, eigstates = fermionise.diagonalise(mbbasis, KondoHam)\n",
    "# SdplusSkminus = {\"+-+-\": [[1, [0, 1, 3, 2]]]}\n",
    "# SdplusSkminusExpVal = fermionise.matrixElement(eigstates[0], SdplusSkminus, eigstates[0])\n",
    "# print (SdplusSkminusExpVal)"
   ]
  },
  {
   "cell_type": "code",
   "execution_count": null,
   "id": "275bd0e9-8ed6-4e99-a9e0-901c7188b19a",
   "metadata": {},
   "outputs": [],
   "source": []
  }
 ],
 "metadata": {
  "kernelspec": {
   "display_name": "Python 3 (ipykernel)",
   "language": "python",
   "name": "python3"
  },
  "language_info": {
   "codemirror_mode": {
    "name": "ipython",
    "version": 3
   },
   "file_extension": ".py",
   "mimetype": "text/x-python",
   "name": "python",
   "nbconvert_exporter": "python",
   "pygments_lexer": "ipython3",
   "version": "3.11.6"
  },
  "widgets": {
   "application/vnd.jupyter.widget-state+json": {
    "state": {},
    "version_major": 2,
    "version_minor": 0
   }
  }
 },
 "nbformat": 4,
 "nbformat_minor": 5
}
