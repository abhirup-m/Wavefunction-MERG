{
 "cells": [
  {
   "cell_type": "code",
   "execution_count": 1,
   "id": "81f399ed-10cd-4e48-8ab7-257b1719b433",
   "metadata": {},
   "outputs": [],
   "source": [
    "%load_ext autoreload\n",
    "%autoreload 2\n",
    "%load_ext line_profiler\n",
    "\n",
    "from tqdm import tqdm\n",
    "from math import sqrt,erf\n",
    "from multiprocessing import Pool\n",
    "from itertools import product, repeat\n",
    "from matplotlib import pyplot as plt\n",
    "from matplotlib import animation\n",
    "import matplotlib as mpl\n",
    "import numpy as np\n",
    "from varname import nameof\n",
    "from itertools import product\n",
    "from matplotlib.cm import get_cmap\n",
    "import colorcet as cc\n",
    "import subprocess\n",
    "import os, shutil\n",
    "from time import time\n",
    "import functools\n",
    "from scipy import special\n",
    "import scipy\n",
    "from IPython.display import display, clear_output\n",
    "import fermionise as fermionise\n",
    "import eigenstateRG as eigRG\n",
    "\n",
    "\n",
    "\n",
    "plt.style.use('ggplot')\n",
    "markers = [\"o\", \"X\", \"P\", \"p\", \"*\"]\n",
    "cols = [p['color'] for p in plt.rcParams['axes.prop_cycle']]\n",
    "plt.rc('text.latex', preamble=r'\\usepackage{amsmath}\\usepackage{braket}\\usepackage{nicefrac}')\n",
    "plt.rcParams.update({'font.size': 30,\n",
    "                     'figure.figsize': (11,7),\n",
    "                     'axes.facecolor': 'white',\n",
    "                     'axes.edgecolor': 'lightgray',\n",
    "                     \"figure.autolayout\": 'True',\n",
    "                     'axes.xmargin': 0.03,\n",
    "                     'axes.ymargin': 0.05,\n",
    "                     'axes.grid': False,\n",
    "                     'axes.linewidth': 5,\n",
    "                     'lines.markersize': 15,\n",
    "                     'text.usetex': True,\n",
    "                     'lines.linewidth': 8,\n",
    "                     \"legend.frameon\": True,\n",
    "                     \"legend.framealpha\": 0.7,\n",
    "                     \"legend.handletextpad\": 1,\n",
    "                     \"legend.edgecolor\": \"black\",\n",
    "                     \"legend.handlelength\": 1,\n",
    "                     \"legend.labelspacing\": 0,\n",
    "                     \"legend.columnspacing\": 1,\n",
    "                     \"legend.fontsize\": 35,\n",
    "                    })\n",
    "linestyles = [\"-\", \"--\", \":\"]\n",
    "bbox = dict(boxstyle=\"round\", facecolor=\"lightgray\")\n",
    "\n",
    "D0 = 1\n",
    "deltaD = 0.001\n",
    "plt.plot([], [])\n",
    "plt.show()\n",
    "clear_output()"
   ]
  },
  {
   "cell_type": "code",
   "execution_count": 2,
   "id": "be4980e0-0f11-4b3f-a22f-744e1ee2ea58",
   "metadata": {},
   "outputs": [],
   "source": [
    "def get_RG_flow(J0_by_D0, Ub_by_J=0, plot=False):\n",
    "    \"\"\" Returns the flow of couplings in the form of two ndarrays J and D.\n",
    "    Each ndarray is in ascending order of the bandwidth. \"\"\"\n",
    "    J0 = D0 * J0_by_D0\n",
    "    Ub = - Ub_by_J * J0\n",
    "    omega = -D0/2\n",
    "    \n",
    "    ### initialise arrays with UV values\n",
    "    D = [D0]\n",
    "    J = [J0]\n",
    "    \n",
    "    ### apply URG transformations until bandwith vanishes\n",
    "    ### or J reduces to zero.\n",
    "    while D[-1] >= deltaD and J[-1] >= 0:\n",
    "        \n",
    "        ### URG equation\n",
    "        deltaJ = - J[-1] * (J[-1] + 4 * Ub) / (omega - D[-1]/2 + J[-1]/4) * deltaD\n",
    "        \n",
    "        ### Check if denominator has changed sign, \n",
    "        ### then append renormalised values to array\n",
    "        if (omega - (D[-1] - deltaD)/2 + (J[-1] + deltaJ)/4) * (omega - D0/2 + J0/4) > 0:\n",
    "            D.append(D[-1] - deltaD)\n",
    "            J.append(J[-1] + deltaJ)\n",
    "        else:\n",
    "            break\n",
    "    \n",
    "    ### plot values\n",
    "    if plot:\n",
    "        plt.plot(np.array(D)/D0, np.array(J)/J0, marker=\"o\")\n",
    "        plt.xlabel(r\"$D/D_0$\")\n",
    "        plt.ylabel(r\"$J/J_0$\")\n",
    "    return np.flip(D), np.flip(J)"
   ]
  },
  {
   "cell_type": "code",
   "execution_count": 5,
   "id": "653e42bd-ea78-416b-ba31-b3b9e648b8cf",
   "metadata": {},
   "outputs": [],
   "source": [
    "def KondoMERG(J0_by_D0, num_entangled, num_IOMs):\n",
    "    D, J = get_RG_flow(J0_by_D0)\n",
    "    omega = -D0/2\n",
    "    Ek = np.linspace(deltaD, D[0], num_entangled)\n",
    "    alpha_arr = [1]#[Ji / (2 * (omega - Di/2 + Ji/4)) for Ji, Di in zip(J, D)][:num_IOMs]\n",
    "    init_couplings = [Ek, J[0], 0]\n",
    "    decomposition_arr = eigRG.getWavefunctionRG(init_couplings, alpha_arr, num_entangled, num_IOMs, \n",
    "                                                fermionise.getKondoHamiltonian, eigRG.getEtaKondo\n",
    "                                              )\n",
    "    print (decomposition_arr[0])\n",
    "    print (decomposition_arr[1])\n",
    "    computation_results = eigRG.computations(decomposition_arr,\n",
    "                                            {\"I2\": [[2, 3], [4, 5]],\n",
    "                                            }\n",
    "                                           )\n",
    "    return num_entangled, num_IOMs, computation_results"
   ]
  },
  {
   "cell_type": "code",
   "execution_count": 6,
   "id": "1446b047-bd58-4a06-98bc-4e7c6827a1f8",
   "metadata": {},
   "outputs": [
    {
     "data": {
      "application/vnd.jupyter.widget-view+json": {
       "model_id": "28720068a26a4582ab64316af1f8fe83",
       "version_major": 2,
       "version_minor": 0
      },
      "text/plain": [
       "Obtaining operators for n .:   0%|          | 0/2 [00:00<?, ?it/s]"
      ]
     },
     "metadata": {},
     "output_type": "display_data"
    },
    {
     "data": {
      "application/vnd.jupyter.widget-view+json": {
       "model_id": "4f1ec9e4a2a74dfc9a0c3a7a73e8a77d",
       "version_major": 2,
       "version_minor": 0
      },
      "text/plain": [
       "Obtaining operators for n+- .:   0%|          | 0/4 [00:00<?, ?it/s]"
      ]
     },
     "metadata": {},
     "output_type": "display_data"
    },
    {
     "data": {
      "application/vnd.jupyter.widget-view+json": {
       "model_id": "cf7a5474bad1410ea21a6e7485f5125b",
       "version_major": 2,
       "version_minor": 0
      },
      "text/plain": [
       "Obtaining operators for +-+- .:   0%|          | 0/1 [00:00<?, ?it/s]"
      ]
     },
     "metadata": {},
     "output_type": "display_data"
    },
    {
     "data": {
      "application/vnd.jupyter.widget-view+json": {
       "model_id": "f53107ce4f0b44ddaf8a2db657d35e0e",
       "version_major": 2,
       "version_minor": 0
      },
      "text/plain": [
       "Obtaining operators for n .:   0%|          | 0/2 [00:00<?, ?it/s]"
      ]
     },
     "metadata": {},
     "output_type": "display_data"
    },
    {
     "data": {
      "application/vnd.jupyter.widget-view+json": {
       "model_id": "5dabf20039464a1ebc01542bd4560ae6",
       "version_major": 2,
       "version_minor": 0
      },
      "text/plain": [
       "Expressing state in terms of basis.:   0%|          | 0/16 [00:00<?, ?it/s]"
      ]
     },
     "metadata": {},
     "output_type": "display_data"
    },
    {
     "name": "stdout",
     "output_type": "stream",
     "text": [
      "[-0.08661899  0.        ]\n",
      "G-state energy: [-0.08661899]\n",
      "01101100 01111000 -0.17677669529663692 0.17677669529663692\n",
      "\n",
      "01101100 10110100 0.35355339059327384 0.35355339059327384\n",
      "\n",
      "10011100 10110100 0.17677669529663687 -0.17677669529663687\n",
      "\n",
      "10011100 01111000 -0.35355339059327373 -0.35355339059327373\n",
      "\n"
     ]
    },
    {
     "data": {
      "application/vnd.jupyter.widget-view+json": {
       "model_id": "2151c476aae64fac9cd8c4c890749ab7",
       "version_major": 2,
       "version_minor": 0
      },
      "text/plain": [
       "Applying eta^dag, size=1:   0%|          | 0/2 [00:00<?, ?it/s]"
      ]
     },
     "metadata": {},
     "output_type": "display_data"
    },
    {
     "name": "stdout",
     "output_type": "stream",
     "text": [
      "01101100 01001110 -0.17677669529663692 -0.17677669529663692\n",
      "\n",
      "01101100 10001101 0.35355339059327384 0.35355339059327384\n",
      "\n",
      "10011100 10001101 0.17677669529663687 0.17677669529663687\n",
      "\n",
      "10011100 01001110 -0.35355339059327373 -0.35355339059327373\n",
      "\n",
      "{'0110': 0.7071067811865477, '1001': -0.7071067811865475}\n",
      "{'01101100': 0.48507125007266605, '10011100': -0.4850712500726659, '01111000': -0.3638034375544995, '10110100': 0.3638034375544995, '01001110': -0.3638034375544995, '10001101': 0.3638034375544995}\n"
     ]
    },
    {
     "data": {
      "application/vnd.jupyter.widget-view+json": {
       "model_id": "936417484bfd4298889a47017cadc406",
       "version_major": 2,
       "version_minor": 0
      },
      "text/plain": [
       "Computing I2:   0%|          | 0/2 [00:00<?, ?it/s]"
      ]
     },
     "metadata": {},
     "output_type": "display_data"
    },
    {
     "ename": "IndexError",
     "evalue": "string index out of range",
     "output_type": "error",
     "traceback": [
      "\u001b[0;31m---------------------------------------------------------------------------\u001b[0m",
      "\u001b[0;31mIndexError\u001b[0m                                Traceback (most recent call last)",
      "Input \u001b[0;32mIn [6]\u001b[0m, in \u001b[0;36m<cell line: 1>\u001b[0;34m()\u001b[0m\n\u001b[0;32m----> 1\u001b[0m num_entangled, num_IOMs, computation_results \u001b[38;5;241m=\u001b[39m \u001b[43mKondoMERG\u001b[49m\u001b[43m(\u001b[49m\u001b[38;5;241;43m0.1\u001b[39;49m\u001b[43m,\u001b[49m\u001b[43m \u001b[49m\u001b[38;5;241;43m1\u001b[39;49m\u001b[43m,\u001b[49m\u001b[43m \u001b[49m\u001b[38;5;241;43m1\u001b[39;49m\u001b[43m)\u001b[49m\n",
      "Input \u001b[0;32mIn [5]\u001b[0m, in \u001b[0;36mKondoMERG\u001b[0;34m(J0_by_D0, num_entangled, num_IOMs)\u001b[0m\n\u001b[1;32m     10\u001b[0m \u001b[38;5;28mprint\u001b[39m (decomposition_arr[\u001b[38;5;241m0\u001b[39m])\n\u001b[1;32m     11\u001b[0m \u001b[38;5;28mprint\u001b[39m (decomposition_arr[\u001b[38;5;241m1\u001b[39m])\n\u001b[0;32m---> 12\u001b[0m computation_results \u001b[38;5;241m=\u001b[39m \u001b[43meigRG\u001b[49m\u001b[38;5;241;43m.\u001b[39;49m\u001b[43mcomputations\u001b[49m\u001b[43m(\u001b[49m\u001b[43mdecomposition_arr\u001b[49m\u001b[43m,\u001b[49m\n\u001b[1;32m     13\u001b[0m \u001b[43m                                        \u001b[49m\u001b[43m{\u001b[49m\u001b[38;5;124;43m\"\u001b[39;49m\u001b[38;5;124;43mI2\u001b[39;49m\u001b[38;5;124;43m\"\u001b[39;49m\u001b[43m:\u001b[49m\u001b[43m \u001b[49m\u001b[43m[\u001b[49m\u001b[43m[\u001b[49m\u001b[38;5;241;43m2\u001b[39;49m\u001b[43m,\u001b[49m\u001b[43m \u001b[49m\u001b[38;5;241;43m3\u001b[39;49m\u001b[43m]\u001b[49m\u001b[43m,\u001b[49m\u001b[43m \u001b[49m\u001b[43m[\u001b[49m\u001b[38;5;241;43m4\u001b[39;49m\u001b[43m,\u001b[49m\u001b[43m \u001b[49m\u001b[38;5;241;43m5\u001b[39;49m\u001b[43m]\u001b[49m\u001b[43m]\u001b[49m\u001b[43m,\u001b[49m\n\u001b[1;32m     14\u001b[0m \u001b[43m                                        \u001b[49m\u001b[43m}\u001b[49m\n\u001b[1;32m     15\u001b[0m \u001b[43m                                       \u001b[49m\u001b[43m)\u001b[49m\n\u001b[1;32m     16\u001b[0m \u001b[38;5;28;01mreturn\u001b[39;00m num_entangled, num_IOMs, computation_results\n",
      "File \u001b[0;32m~/storage/work/WavefunctionMERG/source/eigenstateRG.py:176\u001b[0m, in \u001b[0;36mcomputations\u001b[0;34m(decomposition_arr, computables)\u001b[0m\n\u001b[1;32m    172\u001b[0m \u001b[38;5;66;03m# loop over all the computables that have been required\u001b[39;00m\n\u001b[1;32m    173\u001b[0m \u001b[38;5;66;03m# for each computable, loop over the coefficient RG flow\u001b[39;00m\n\u001b[1;32m    174\u001b[0m \u001b[38;5;66;03m# and perform the computation at every RG step.\u001b[39;00m\n\u001b[1;32m    175\u001b[0m \u001b[38;5;28;01mfor\u001b[39;00m computable, members \u001b[38;5;129;01min\u001b[39;00m computables\u001b[38;5;241m.\u001b[39mitems():\n\u001b[0;32m--> 176\u001b[0m     computations[computable] \u001b[38;5;241m=\u001b[39m [funcNameMaps[computable](decomposition, members) \u001b[38;5;28;01mfor\u001b[39;00m decomposition \u001b[38;5;129;01min\u001b[39;00m tqdm(decomposition_arr, total\u001b[38;5;241m=\u001b[39m\u001b[38;5;28mlen\u001b[39m(decomposition_arr), disable\u001b[38;5;241m=\u001b[39m\u001b[38;5;28;01mFalse\u001b[39;00m, desc\u001b[38;5;241m=\u001b[39m\u001b[38;5;124m\"\u001b[39m\u001b[38;5;124mComputing \u001b[39m\u001b[38;5;132;01m{}\u001b[39;00m\u001b[38;5;124m\"\u001b[39m\u001b[38;5;241m.\u001b[39mformat(computable))]\n\u001b[1;32m    177\u001b[0m \u001b[38;5;28;01mreturn\u001b[39;00m computations\n",
      "File \u001b[0;32m~/storage/work/WavefunctionMERG/source/eigenstateRG.py:176\u001b[0m, in \u001b[0;36m<listcomp>\u001b[0;34m(.0)\u001b[0m\n\u001b[1;32m    172\u001b[0m \u001b[38;5;66;03m# loop over all the computables that have been required\u001b[39;00m\n\u001b[1;32m    173\u001b[0m \u001b[38;5;66;03m# for each computable, loop over the coefficient RG flow\u001b[39;00m\n\u001b[1;32m    174\u001b[0m \u001b[38;5;66;03m# and perform the computation at every RG step.\u001b[39;00m\n\u001b[1;32m    175\u001b[0m \u001b[38;5;28;01mfor\u001b[39;00m computable, members \u001b[38;5;129;01min\u001b[39;00m computables\u001b[38;5;241m.\u001b[39mitems():\n\u001b[0;32m--> 176\u001b[0m     computations[computable] \u001b[38;5;241m=\u001b[39m [\u001b[43mfuncNameMaps\u001b[49m\u001b[43m[\u001b[49m\u001b[43mcomputable\u001b[49m\u001b[43m]\u001b[49m\u001b[43m(\u001b[49m\u001b[43mdecomposition\u001b[49m\u001b[43m,\u001b[49m\u001b[43m \u001b[49m\u001b[43mmembers\u001b[49m\u001b[43m)\u001b[49m \u001b[38;5;28;01mfor\u001b[39;00m decomposition \u001b[38;5;129;01min\u001b[39;00m tqdm(decomposition_arr, total\u001b[38;5;241m=\u001b[39m\u001b[38;5;28mlen\u001b[39m(decomposition_arr), disable\u001b[38;5;241m=\u001b[39m\u001b[38;5;28;01mFalse\u001b[39;00m, desc\u001b[38;5;241m=\u001b[39m\u001b[38;5;124m\"\u001b[39m\u001b[38;5;124mComputing \u001b[39m\u001b[38;5;132;01m{}\u001b[39;00m\u001b[38;5;124m\"\u001b[39m\u001b[38;5;241m.\u001b[39mformat(computable))]\n\u001b[1;32m    177\u001b[0m \u001b[38;5;28;01mreturn\u001b[39;00m computations\n",
      "File \u001b[0;32m~/storage/work/WavefunctionMERG/source/fermionise.py:389\u001b[0m, in \u001b[0;36mgetMutualInfo\u001b[0;34m(genState, parties)\u001b[0m\n\u001b[1;32m    387\u001b[0m \u001b[38;5;66;03m# get entanglement entropies for party A, party B and their union.\u001b[39;00m\n\u001b[1;32m    388\u001b[0m S_A \u001b[38;5;241m=\u001b[39m getEntanglementEntropy(genState, parties[\u001b[38;5;241m0\u001b[39m])\n\u001b[0;32m--> 389\u001b[0m S_B \u001b[38;5;241m=\u001b[39m \u001b[43mgetEntanglementEntropy\u001b[49m\u001b[43m(\u001b[49m\u001b[43mgenState\u001b[49m\u001b[43m,\u001b[49m\u001b[43m \u001b[49m\u001b[43mparties\u001b[49m\u001b[43m[\u001b[49m\u001b[38;5;241;43m1\u001b[39;49m\u001b[43m]\u001b[49m\u001b[43m)\u001b[49m\n\u001b[1;32m    390\u001b[0m S_AB \u001b[38;5;241m=\u001b[39m getEntanglementEntropy(genState, \u001b[38;5;28mlist\u001b[39m(parties[\u001b[38;5;241m0\u001b[39m]) \u001b[38;5;241m+\u001b[39m \u001b[38;5;28mlist\u001b[39m(parties[\u001b[38;5;241m1\u001b[39m]))\n\u001b[1;32m    392\u001b[0m \u001b[38;5;28;01mreturn\u001b[39;00m S_A \u001b[38;5;241m+\u001b[39m S_B \u001b[38;5;241m-\u001b[39m S_AB\n",
      "File \u001b[0;32m~/storage/work/WavefunctionMERG/source/fermionise.py:362\u001b[0m, in \u001b[0;36mgetEntanglementEntropy\u001b[0;34m(genState, parties)\u001b[0m\n\u001b[1;32m    357\u001b[0m \u001b[38;5;124;03m\"\"\" Calculate entanglement entropy for the given state and the given parties.\u001b[39;00m\n\u001b[1;32m    358\u001b[0m \u001b[38;5;124;03mS(A) = trace(rho_A ln rho_A)\u001b[39;00m\n\u001b[1;32m    359\u001b[0m \u001b[38;5;124;03m\"\"\"\u001b[39;00m\n\u001b[1;32m    361\u001b[0m \u001b[38;5;66;03m# get the reduced density matrix\u001b[39;00m\n\u001b[0;32m--> 362\u001b[0m redDenMat \u001b[38;5;241m=\u001b[39m \u001b[43mgetReducedDensityMatrix\u001b[49m\u001b[43m(\u001b[49m\u001b[43mgenState\u001b[49m\u001b[43m,\u001b[49m\u001b[43m \u001b[49m\u001b[43mparties\u001b[49m\u001b[43m)\u001b[49m\n\u001b[1;32m    364\u001b[0m \u001b[38;5;66;03m# get its spectrum\u001b[39;00m\n\u001b[1;32m    365\u001b[0m eigvals,_ \u001b[38;5;241m=\u001b[39m scipy\u001b[38;5;241m.\u001b[39mlinalg\u001b[38;5;241m.\u001b[39meigh(redDenMat)\n",
      "File \u001b[0;32m~/storage/work/WavefunctionMERG/source/fermionise.py:341\u001b[0m, in \u001b[0;36mgetReducedDensityMatrix\u001b[0;34m(genState, partiesRemain)\u001b[0m\n\u001b[1;32m    339\u001b[0m dictionary \u001b[38;5;241m=\u001b[39m {}\n\u001b[1;32m    340\u001b[0m \u001b[38;5;28;01mfor\u001b[39;00m state, coeff \u001b[38;5;129;01min\u001b[39;00m genState\u001b[38;5;241m.\u001b[39mitems():\n\u001b[0;32m--> 341\u001b[0m     lR \u001b[38;5;241m=\u001b[39m \u001b[43mget_substring\u001b[49m\u001b[43m(\u001b[49m\u001b[43mstate\u001b[49m\u001b[43m,\u001b[49m\u001b[43m \u001b[49m\u001b[43mpartiesRemain\u001b[49m\u001b[43m)\u001b[49m\n\u001b[1;32m    342\u001b[0m     lT \u001b[38;5;241m=\u001b[39m get_substring(state, partiesTraced)\n\u001b[1;32m    343\u001b[0m     \u001b[38;5;28;01mif\u001b[39;00m lT \u001b[38;5;129;01mnot\u001b[39;00m \u001b[38;5;129;01min\u001b[39;00m dictionary:\n",
      "File \u001b[0;32m~/storage/work/WavefunctionMERG/source/fermionise.py:332\u001b[0m, in \u001b[0;36mgetReducedDensityMatrix.<locals>.<lambda>\u001b[0;34m(string, sub_indices)\u001b[0m\n\u001b[1;32m    324\u001b[0m \u001b[38;5;28;01mdef\u001b[39;00m \u001b[38;5;21mgetReducedDensityMatrix\u001b[39m(genState, partiesRemain):\n\u001b[1;32m    325\u001b[0m     \u001b[38;5;124;03m\"\"\" Returns the reduced density matrix, given a state and a set of parties \u001b[39;00m\n\u001b[1;32m    326\u001b[0m \u001b[38;5;124;03m    partiesRemain that will not be traced over. The state is provided in the form\u001b[39;00m\n\u001b[1;32m    327\u001b[0m \u001b[38;5;124;03m    of a set of coefficients and classical states. The calculation will happen through the expression\u001b[39;00m\n\u001b[1;32m    328\u001b[0m \u001b[38;5;124;03m    rho = |psi><psi| =  sum_ij |psi^A_i>|psi^B_i><psi^A_j|<psi^B_j|,\u001b[39;00m\n\u001b[1;32m    329\u001b[0m \u001b[38;5;124;03m    rho_A =  sum_ij  sum_{b_B} |psi^A_i><psi^A_j|<b_B|psi^B_i><psi^B_j|b_B>\u001b[39;00m\n\u001b[1;32m    330\u001b[0m \u001b[38;5;124;03m    \"\"\"\u001b[39;00m\n\u001b[0;32m--> 332\u001b[0m     get_substring \u001b[38;5;241m=\u001b[39m \u001b[38;5;28;01mlambda\u001b[39;00m string, sub_indices: \u001b[38;5;124m\"\u001b[39m\u001b[38;5;124m\"\u001b[39m\u001b[38;5;241m.\u001b[39mjoin(\u001b[43mitemgetter\u001b[49m\u001b[43m(\u001b[49m\u001b[38;5;241;43m*\u001b[39;49m\u001b[43msub_indices\u001b[49m\u001b[43m)\u001b[49m\u001b[43m(\u001b[49m\u001b[43mstring\u001b[49m\u001b[43m)\u001b[49m)\n\u001b[1;32m    334\u001b[0m     remainBasis \u001b[38;5;241m=\u001b[39m getBasis(\u001b[38;5;28mlen\u001b[39m(partiesRemain))\n\u001b[1;32m    336\u001b[0m     \u001b[38;5;66;03m# get the set of indices that will be traced over by taking the complement of the set partiesRemain.\u001b[39;00m\n",
      "\u001b[0;31mIndexError\u001b[0m: string index out of range"
     ]
    }
   ],
   "source": [
    "num_entangled, num_IOMs, computation_results = KondoMERG(0.1, 1, 1)\n",
    "# plt.plot(range(num_entangled, num_entangled + 2 * num_IOMs + 1, 2), computation_results[\"I2\"], marker='o')\n",
    "# plt.ylabel(r\"$I_2(d:k_1)$\")\n",
    "# plt.xlabel(\"number of entangled k-states\")\n",
    "# plt.show()"
   ]
  },
  {
   "cell_type": "code",
   "execution_count": 3,
   "id": "a1dd2f4e-a7d0-430f-b03b-23ac73fda46a",
   "metadata": {},
   "outputs": [
    {
     "ename": "RuntimeError",
     "evalue": "asyncio.run() cannot be called from a running event loop",
     "output_type": "error",
     "traceback": [
      "\u001b[0;31m---------------------------------------------------------------------------\u001b[0m",
      "\u001b[0;31mRuntimeError\u001b[0m                              Traceback (most recent call last)",
      "Input \u001b[0;32mIn [3]\u001b[0m, in \u001b[0;36m<cell line: 5>\u001b[0;34m()\u001b[0m\n\u001b[1;32m      3\u001b[0m Ek \u001b[38;5;241m=\u001b[39m np\u001b[38;5;241m.\u001b[39mlinspace(\u001b[38;5;241m1\u001b[39m, \u001b[38;5;241m1\u001b[39m, num_bath)\n\u001b[1;32m      4\u001b[0m fixedPointCouplings \u001b[38;5;241m=\u001b[39m [Ek, \u001b[38;5;241m1\u001b[39m, \u001b[38;5;241m0\u001b[39m]\n\u001b[0;32m----> 5\u001b[0m KondoHam \u001b[38;5;241m=\u001b[39m \u001b[43mfermionise\u001b[49m\u001b[38;5;241;43m.\u001b[39;49m\u001b[43mgetKondoHamiltonian\u001b[49m\u001b[43m(\u001b[49m\u001b[43mmbbasis\u001b[49m\u001b[43m,\u001b[49m\u001b[43m \u001b[49m\u001b[43mnum_bath\u001b[49m\u001b[43m,\u001b[49m\u001b[43m \u001b[49m\u001b[43mfixedPointCouplings\u001b[49m\u001b[43m)\u001b[49m\n",
      "File \u001b[0;32m~/storage/work/WavefunctionMERG/source/fermionise.py:314\u001b[0m, in \u001b[0;36mgetKondoHamiltonian\u001b[0;34m(manyBodyBasis, num_bath_sites, couplings)\u001b[0m\n\u001b[1;32m    310\u001b[0m Ek \u001b[38;5;241m=\u001b[39m np\u001b[38;5;241m.\u001b[39mrepeat(Ek, \u001b[38;5;241m2\u001b[39m)\n\u001b[1;32m    312\u001b[0m \u001b[38;5;66;03m# create kinetic energy term, by looping over all bath site indices 2,3,...,2*num_bath_sites+1,\u001b[39;00m\n\u001b[1;32m    313\u001b[0m \u001b[38;5;66;03m# where 0 and 1 are reserved for the impurity orbitals and must therefore be skipped.\u001b[39;00m\n\u001b[0;32m--> 314\u001b[0m ham_KE \u001b[38;5;241m=\u001b[39m \u001b[43mfermionicHamiltonian\u001b[49m\u001b[43m(\u001b[49m\u001b[43mmanyBodyBasis\u001b[49m\u001b[43m,\u001b[49m\u001b[43m \u001b[49m\u001b[43m{\u001b[49m\u001b[38;5;124;43m'\u001b[39;49m\u001b[38;5;124;43mn\u001b[39;49m\u001b[38;5;124;43m'\u001b[39;49m\u001b[43m:\u001b[49m\u001b[43m \u001b[49m\u001b[43m[\u001b[49m\u001b[43m[\u001b[49m\u001b[43mEk\u001b[49m\u001b[43m[\u001b[49m\u001b[43mi\u001b[49m\u001b[43m \u001b[49m\u001b[38;5;241;43m-\u001b[39;49m\u001b[43m \u001b[49m\u001b[38;5;241;43m2\u001b[39;49m\u001b[43m]\u001b[49m\u001b[43m,\u001b[49m\u001b[43m \u001b[49m\u001b[43m[\u001b[49m\u001b[43mi\u001b[49m\u001b[43m]\u001b[49m\u001b[43m]\u001b[49m\u001b[43m \u001b[49m\u001b[38;5;28;43;01mfor\u001b[39;49;00m\u001b[43m \u001b[49m\u001b[43mi\u001b[49m\u001b[43m \u001b[49m\u001b[38;5;129;43;01min\u001b[39;49;00m\u001b[43m \u001b[49m\u001b[38;5;28;43mrange\u001b[39;49m\u001b[43m(\u001b[49m\u001b[38;5;241;43m2\u001b[39;49m\u001b[43m,\u001b[49m\u001b[43m \u001b[49m\u001b[38;5;241;43m2\u001b[39;49m\u001b[43m \u001b[49m\u001b[38;5;241;43m*\u001b[39;49m\u001b[43m \u001b[49m\u001b[43mnum_bath_sites\u001b[49m\u001b[43m \u001b[49m\u001b[38;5;241;43m+\u001b[39;49m\u001b[43m \u001b[49m\u001b[38;5;241;43m2\u001b[39;49m\u001b[43m)\u001b[49m\u001b[43m]\u001b[49m\u001b[43m}\u001b[49m\u001b[43m)\u001b[49m\n\u001b[1;32m    316\u001b[0m \u001b[38;5;66;03m# create the sum_k Sdz Skz term, by writing it in terms of number operators. \u001b[39;00m\n\u001b[1;32m    317\u001b[0m \u001b[38;5;66;03m# The first line is n_dup sum_k Skz = n_dup sum_ksigma (-1)^sigma n_ksigma, sigma=(0,1).\u001b[39;00m\n\u001b[1;32m    318\u001b[0m \u001b[38;5;66;03m# The second line is -n_ddn sum_k Skz = -n_ddn sum_ksigma (-1)^sigma n_ksigma, sigma=(0,1).\u001b[39;00m\n\u001b[1;32m    319\u001b[0m zz_terms \u001b[38;5;241m=\u001b[39m (\u001b[38;5;28msum\u001b[39m([], [[kondo_J, [\u001b[38;5;241m0\u001b[39m, \u001b[38;5;241m2\u001b[39m \u001b[38;5;241m*\u001b[39m k1, \u001b[38;5;241m2\u001b[39m \u001b[38;5;241m*\u001b[39m k2]] \u001b[38;5;28;01mfor\u001b[39;00m k1, k2 \u001b[38;5;129;01min\u001b[39;00m itertools\u001b[38;5;241m.\u001b[39mproduct(\u001b[38;5;28mrange\u001b[39m(\u001b[38;5;241m1\u001b[39m, num_bath_sites \u001b[38;5;241m+\u001b[39m \u001b[38;5;241m1\u001b[39m), repeat\u001b[38;5;241m=\u001b[39m\u001b[38;5;241m2\u001b[39m)]) \n\u001b[1;32m    320\u001b[0m             \u001b[38;5;241m+\u001b[39m \u001b[38;5;28msum\u001b[39m([], [[\u001b[38;5;241m-\u001b[39mkondo_J, [\u001b[38;5;241m0\u001b[39m, \u001b[38;5;241m2\u001b[39m \u001b[38;5;241m*\u001b[39m k1 \u001b[38;5;241m+\u001b[39m \u001b[38;5;241m1\u001b[39m, \u001b[38;5;241m2\u001b[39m \u001b[38;5;241m*\u001b[39m k2 \u001b[38;5;241m+\u001b[39m \u001b[38;5;241m1\u001b[39m]] \u001b[38;5;28;01mfor\u001b[39;00m k1, k2 \u001b[38;5;129;01min\u001b[39;00m itertools\u001b[38;5;241m.\u001b[39mproduct(\u001b[38;5;28mrange\u001b[39m(\u001b[38;5;241m1\u001b[39m, num_bath_sites \u001b[38;5;241m+\u001b[39m \u001b[38;5;241m1\u001b[39m), repeat\u001b[38;5;241m=\u001b[39m\u001b[38;5;241m2\u001b[39m)])\n\u001b[1;32m    321\u001b[0m             \u001b[38;5;241m+\u001b[39m \u001b[38;5;28msum\u001b[39m([], [[\u001b[38;5;241m-\u001b[39mkondo_J, [\u001b[38;5;241m1\u001b[39m, \u001b[38;5;241m2\u001b[39m \u001b[38;5;241m*\u001b[39m k1, \u001b[38;5;241m2\u001b[39m \u001b[38;5;241m*\u001b[39m k2]] \u001b[38;5;28;01mfor\u001b[39;00m k1, k2 \u001b[38;5;129;01min\u001b[39;00m itertools\u001b[38;5;241m.\u001b[39mproduct(\u001b[38;5;28mrange\u001b[39m(\u001b[38;5;241m1\u001b[39m, num_bath_sites \u001b[38;5;241m+\u001b[39m \u001b[38;5;241m1\u001b[39m), repeat\u001b[38;5;241m=\u001b[39m\u001b[38;5;241m2\u001b[39m)])\n\u001b[1;32m    322\u001b[0m             \u001b[38;5;241m+\u001b[39m \u001b[38;5;28msum\u001b[39m([], [[kondo_J, [\u001b[38;5;241m1\u001b[39m, \u001b[38;5;241m2\u001b[39m \u001b[38;5;241m*\u001b[39m k1 \u001b[38;5;241m+\u001b[39m \u001b[38;5;241m1\u001b[39m, \u001b[38;5;241m2\u001b[39m \u001b[38;5;241m*\u001b[39m k2 \u001b[38;5;241m+\u001b[39m \u001b[38;5;241m1\u001b[39m]] \u001b[38;5;28;01mfor\u001b[39;00m k1, k2 \u001b[38;5;129;01min\u001b[39;00m itertools\u001b[38;5;241m.\u001b[39mproduct(\u001b[38;5;28mrange\u001b[39m(\u001b[38;5;241m1\u001b[39m, num_bath_sites \u001b[38;5;241m+\u001b[39m \u001b[38;5;241m1\u001b[39m), repeat\u001b[38;5;241m=\u001b[39m\u001b[38;5;241m2\u001b[39m)])\n\u001b[1;32m    323\u001b[0m            )\n",
      "File \u001b[0;32m~/storage/work/WavefunctionMERG/source/fermionise.py:163\u001b[0m, in \u001b[0;36mfermionicHamiltonian\u001b[0;34m(manyBodyBasis, terms_list)\u001b[0m\n\u001b[1;32m    158\u001b[0m     site_indices_all \u001b[38;5;241m=\u001b[39m [t2 \u001b[38;5;28;01mfor\u001b[39;00m t1,t2 \u001b[38;5;129;01min\u001b[39;00m val]\n\u001b[1;32m    160\u001b[0m     \u001b[38;5;66;03m# for each int_kind, pass the indices of sites to the get_operator function to create the operator \u001b[39;00m\n\u001b[1;32m    161\u001b[0m     \u001b[38;5;66;03m# for each such term\u001b[39;00m\n\u001b[0;32m--> 163\u001b[0m     hamlt \u001b[38;5;241m+\u001b[39m\u001b[38;5;241m=\u001b[39m couplings \u001b[38;5;241m*\u001b[39m \u001b[38;5;28msum\u001b[39m(\u001b[43masyncio\u001b[49m\u001b[38;5;241;43m.\u001b[39;49m\u001b[43mrun\u001b[49m\u001b[43m(\u001b[49m\u001b[43mfermionicHamiltonianHelper\u001b[49m\u001b[43m(\u001b[49m\u001b[43mint_kind\u001b[49m\u001b[43m,\u001b[49m\u001b[43m \u001b[49m\u001b[43mcouplings\u001b[49m\u001b[43m,\u001b[49m\u001b[43m \u001b[49m\u001b[43msite_indices_all\u001b[49m\u001b[43m)\u001b[49m\u001b[43m)\u001b[49m)\n\u001b[1;32m    165\u001b[0m     \u001b[38;5;66;03m# hamlt += sum([coupling * getOperator() ])\u001b[39;00m\n\u001b[1;32m    166\u001b[0m \u001b[38;5;28;01mreturn\u001b[39;00m np\u001b[38;5;241m.\u001b[39marray(hamlt)\n",
      "File \u001b[0;32m~/miniconda3/lib/python3.9/asyncio/runners.py:33\u001b[0m, in \u001b[0;36mrun\u001b[0;34m(main, debug)\u001b[0m\n\u001b[1;32m      9\u001b[0m \u001b[38;5;124;03m\"\"\"Execute the coroutine and return the result.\u001b[39;00m\n\u001b[1;32m     10\u001b[0m \n\u001b[1;32m     11\u001b[0m \u001b[38;5;124;03mThis function runs the passed coroutine, taking care of\u001b[39;00m\n\u001b[0;32m   (...)\u001b[0m\n\u001b[1;32m     30\u001b[0m \u001b[38;5;124;03m    asyncio.run(main())\u001b[39;00m\n\u001b[1;32m     31\u001b[0m \u001b[38;5;124;03m\"\"\"\u001b[39;00m\n\u001b[1;32m     32\u001b[0m \u001b[38;5;28;01mif\u001b[39;00m events\u001b[38;5;241m.\u001b[39m_get_running_loop() \u001b[38;5;129;01mis\u001b[39;00m \u001b[38;5;129;01mnot\u001b[39;00m \u001b[38;5;28;01mNone\u001b[39;00m:\n\u001b[0;32m---> 33\u001b[0m     \u001b[38;5;28;01mraise\u001b[39;00m \u001b[38;5;167;01mRuntimeError\u001b[39;00m(\n\u001b[1;32m     34\u001b[0m         \u001b[38;5;124m\"\u001b[39m\u001b[38;5;124masyncio.run() cannot be called from a running event loop\u001b[39m\u001b[38;5;124m\"\u001b[39m)\n\u001b[1;32m     36\u001b[0m \u001b[38;5;28;01mif\u001b[39;00m \u001b[38;5;129;01mnot\u001b[39;00m coroutines\u001b[38;5;241m.\u001b[39miscoroutine(main):\n\u001b[1;32m     37\u001b[0m     \u001b[38;5;28;01mraise\u001b[39;00m \u001b[38;5;167;01mValueError\u001b[39;00m(\u001b[38;5;124m\"\u001b[39m\u001b[38;5;124ma coroutine was expected, got \u001b[39m\u001b[38;5;132;01m{!r}\u001b[39;00m\u001b[38;5;124m\"\u001b[39m\u001b[38;5;241m.\u001b[39mformat(main))\n",
      "\u001b[0;31mRuntimeError\u001b[0m: asyncio.run() cannot be called from a running event loop"
     ]
    }
   ],
   "source": [
    "num_bath = 5\n",
    "mbbasis = fermionise.getBasis(2 * (1 + num_bath))\n",
    "Ek = np.linspace(1, 1, num_bath)\n",
    "fixedPointCouplings = [Ek, 1, 0]\n",
    "KondoHam = fermionise.getKondoHamiltonian(mbbasis, num_bath, fixedPointCouplings)\n",
    "# eigvals, eigstates = fermionise.diagonalise(mbbasis, KondoHam)\n",
    "# SdplusSkminus = {\"+-+-\": [[1, [0, 1, 3, 2]]]}\n",
    "# SdplusSkminusExpVal = fermionise.matrixElement(eigstates[0], SdplusSkminus, eigstates[0])\n",
    "# print (SdplusSkminusExpVal)"
   ]
  },
  {
   "cell_type": "code",
   "execution_count": null,
   "id": "275bd0e9-8ed6-4e99-a9e0-901c7188b19a",
   "metadata": {},
   "outputs": [],
   "source": []
  }
 ],
 "metadata": {
  "kernelspec": {
   "display_name": "Python 3 (ipykernel)",
   "language": "python",
   "name": "python3"
  },
  "language_info": {
   "codemirror_mode": {
    "name": "ipython",
    "version": 3
   },
   "file_extension": ".py",
   "mimetype": "text/x-python",
   "name": "python",
   "nbconvert_exporter": "python",
   "pygments_lexer": "ipython3",
   "version": "3.9.16"
  },
  "widgets": {
   "application/vnd.jupyter.widget-state+json": {
    "state": {},
    "version_major": 2,
    "version_minor": 0
   }
  }
 },
 "nbformat": 4,
 "nbformat_minor": 5
}
