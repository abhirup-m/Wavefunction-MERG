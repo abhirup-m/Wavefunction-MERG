{
 "cells": [
  {
   "cell_type": "code",
   "execution_count": 1,
   "id": "81f399ed-10cd-4e48-8ab7-257b1719b433",
   "metadata": {},
   "outputs": [],
   "source": [
    "%load_ext autoreload\n",
    "%autoreload 2\n",
    "%load_ext line_profiler\n",
    "\n",
    "from tqdm import tqdm\n",
    "from math import sqrt,erf\n",
    "from multiprocessing import Pool\n",
    "from itertools import product, repeat\n",
    "from matplotlib import pyplot as plt\n",
    "from matplotlib import animation\n",
    "import matplotlib as mpl\n",
    "import numpy as np\n",
    "from varname import nameof\n",
    "from itertools import product\n",
    "from matplotlib.cm import get_cmap\n",
    "import colorcet as cc\n",
    "import subprocess\n",
    "import os, shutil\n",
    "from time import time\n",
    "import functools\n",
    "from scipy import special\n",
    "import scipy\n",
    "from IPython.display import display, clear_output\n",
    "import fermionise as fermionise\n",
    "import eigenstateRG as eigRG\n",
    "\n",
    "\n",
    "\n",
    "plt.style.use('ggplot')\n",
    "markers = [\"o\", \"X\", \"P\", \"p\", \"*\"]\n",
    "cols = [p['color'] for p in plt.rcParams['axes.prop_cycle']]\n",
    "plt.rc('text.latex', preamble=r'\\usepackage{amsmath}\\usepackage{braket}\\usepackage{nicefrac}')\n",
    "plt.rcParams.update({'font.size': 30,\n",
    "                     'figure.figsize': (11,7),\n",
    "                     'axes.facecolor': 'white',\n",
    "                     'axes.edgecolor': 'lightgray',\n",
    "                     \"figure.autolayout\": 'True',\n",
    "                     'axes.xmargin': 0.03,\n",
    "                     'axes.ymargin': 0.05,\n",
    "                     'axes.grid': False,\n",
    "                     'axes.linewidth': 5,\n",
    "                     'lines.markersize': 15,\n",
    "                     'text.usetex': True,\n",
    "                     'lines.linewidth': 8,\n",
    "                     \"legend.frameon\": True,\n",
    "                     \"legend.framealpha\": 0.7,\n",
    "                     \"legend.handletextpad\": 1,\n",
    "                     \"legend.edgecolor\": \"black\",\n",
    "                     \"legend.handlelength\": 1,\n",
    "                     \"legend.labelspacing\": 0,\n",
    "                     \"legend.columnspacing\": 1,\n",
    "                     \"legend.fontsize\": 35,\n",
    "                    })\n",
    "linestyles = [\"-\", \"--\", \":\"]\n",
    "bbox = dict(boxstyle=\"round\", facecolor=\"lightgray\")\n",
    "\n",
    "D0 = 1\n",
    "deltaD = 0.001\n",
    "plt.plot([], [])\n",
    "plt.show()\n",
    "clear_output()"
   ]
  },
  {
   "cell_type": "code",
   "execution_count": 2,
   "id": "be4980e0-0f11-4b3f-a22f-744e1ee2ea58",
   "metadata": {},
   "outputs": [],
   "source": [
    "def get_RG_flow(J0_by_D0, Ub_by_J=0, plot=False):\n",
    "    \"\"\" Returns the flow of couplings in the form of two ndarrays J and D.\n",
    "    Each ndarray is in ascending order of the bandwidth. \"\"\"\n",
    "    J0 = D0 * J0_by_D0\n",
    "    Ub = - Ub_by_J * J0\n",
    "    omega = -D0/2\n",
    "    \n",
    "    ### initialise arrays with UV values\n",
    "    D = [D0]\n",
    "    J = [J0]\n",
    "    \n",
    "    ### apply URG transformations until bandwith vanishes\n",
    "    ### or J reduces to zero.\n",
    "    while D[-1] >= deltaD and J[-1] >= 0:\n",
    "        \n",
    "        ### URG equation\n",
    "        deltaJ = - J[-1] * (J[-1] + 4 * Ub) / (omega - D[-1]/2 + J[-1]/4) * deltaD\n",
    "        \n",
    "        ### Check if denominator has changed sign, \n",
    "        ### then append renormalised values to array\n",
    "        if (omega - (D[-1] - deltaD)/2 + (J[-1] + deltaJ)/4) * (omega - D0/2 + J0/4) > 0:\n",
    "            D.append(D[-1] - deltaD)\n",
    "            J.append(J[-1] + deltaJ)\n",
    "        else:\n",
    "            break\n",
    "    \n",
    "    ### plot values\n",
    "    if plot:\n",
    "        plt.plot(np.array(D)/D0, np.array(J)/J0, marker=\"o\")\n",
    "        plt.xlabel(r\"$D/D_0$\")\n",
    "        plt.ylabel(r\"$J/J_0$\")\n",
    "    return np.flip(D), np.flip(J)"
   ]
  },
  {
   "cell_type": "code",
   "execution_count": 3,
   "id": "653e42bd-ea78-416b-ba31-b3b9e648b8cf",
   "metadata": {},
   "outputs": [],
   "source": [
    "def KondoMERG(J0_by_D0, num_entangled, num_IOMs):\n",
    "    D, J = get_RG_flow(J0_by_D0)\n",
    "    omega = -D0/2\n",
    "    Ek = np.linspace(deltaD, D[0], num_entangled)\n",
    "    alpha_arr = [1]#[Ji / (2 * (omega - Di/2 + Ji/4)) for Ji, Di in zip(J, D)][:num_IOMs]\n",
    "    init_couplings = [Ek, J[0], 0]\n",
    "    decomposition_arr = eigRG.getWavefunctionRG(init_couplings, alpha_arr, num_entangled, num_IOMs, \n",
    "                                                fermionise.getKondoHamiltonian, eigRG.getEtaKondo\n",
    "                                              )\n",
    "    print (decomposition_arr[0])\n",
    "    print (decomposition_arr[1])\n",
    "    computation_results = eigRG.computations(decomposition_arr,\n",
    "                                            {\"VNE\": [0,1,2,3],\n",
    "                                            }\n",
    "                                           )\n",
    "    return num_entangled, num_IOMs, computation_results"
   ]
  },
  {
   "cell_type": "code",
   "execution_count": 4,
   "id": "1446b047-bd58-4a06-98bc-4e7c6827a1f8",
   "metadata": {},
   "outputs": [
    {
     "data": {
      "application/vnd.jupyter.widget-view+json": {
       "model_id": "e00ecb1720b2440caac74f4c0b4f536e",
       "version_major": 2,
       "version_minor": 0
      },
      "text/plain": [
       "Obtaining operators for n .:   0%|          | 0/2 [00:00<?, ?it/s]"
      ]
     },
     "metadata": {},
     "output_type": "display_data"
    },
    {
     "data": {
      "application/vnd.jupyter.widget-view+json": {
       "model_id": "cffae3ac70104418baa32c8d0b655b5c",
       "version_major": 2,
       "version_minor": 0
      },
      "text/plain": [
       "Obtaining operators for n+- .:   0%|          | 0/4 [00:00<?, ?it/s]"
      ]
     },
     "metadata": {},
     "output_type": "display_data"
    },
    {
     "data": {
      "application/vnd.jupyter.widget-view+json": {
       "model_id": "c6fc2cee9eab4c059878867c2779ac20",
       "version_major": 2,
       "version_minor": 0
      },
      "text/plain": [
       "Obtaining operators for +-+- .:   0%|          | 0/1 [00:00<?, ?it/s]"
      ]
     },
     "metadata": {},
     "output_type": "display_data"
    },
    {
     "data": {
      "application/vnd.jupyter.widget-view+json": {
       "model_id": "0c4f7220b39c4a899a873cafa76d5a3f",
       "version_major": 2,
       "version_minor": 0
      },
      "text/plain": [
       "Obtaining operators for n .:   0%|          | 0/2 [00:00<?, ?it/s]"
      ]
     },
     "metadata": {},
     "output_type": "display_data"
    },
    {
     "data": {
      "application/vnd.jupyter.widget-view+json": {
       "model_id": "122de5372d064eb9bf0ce88fedf000cb",
       "version_major": 2,
       "version_minor": 0
      },
      "text/plain": [
       "Expressing state in terms of basis.:   0%|          | 0/16 [00:00<?, ?it/s]"
      ]
     },
     "metadata": {},
     "output_type": "display_data"
    },
    {
     "name": "stdout",
     "output_type": "stream",
     "text": [
      "[-0.08661899  0.        ]\n",
      "G-state energy: [-0.08661899]\n",
      "01101100 01111000 -0.17677669529663692 0.17677669529663692\n",
      "\n",
      "01101100 10110100 0.35355339059327384 0.35355339059327384\n",
      "\n",
      "10011100 10110100 0.17677669529663687 -0.17677669529663687\n",
      "\n",
      "10011100 01111000 -0.35355339059327373 -0.35355339059327373\n",
      "\n"
     ]
    },
    {
     "data": {
      "application/vnd.jupyter.widget-view+json": {
       "model_id": "9a309aa300644b5da8b389dd42497cfc",
       "version_major": 2,
       "version_minor": 0
      },
      "text/plain": [
       "Applying eta^dag, size=1:   0%|          | 0/2 [00:00<?, ?it/s]"
      ]
     },
     "metadata": {},
     "output_type": "display_data"
    },
    {
     "name": "stdout",
     "output_type": "stream",
     "text": [
      "01101100 01001110 -0.17677669529663692 -0.17677669529663692\n",
      "\n",
      "01101100 10001101 0.35355339059327384 0.35355339059327384\n",
      "\n",
      "10011100 10001101 0.17677669529663687 0.17677669529663687\n",
      "\n",
      "10011100 01001110 -0.35355339059327373 -0.35355339059327373\n",
      "\n",
      "{'0110': 0.7071067811865477, '1001': -0.7071067811865475}\n",
      "{'01101100': 0.48507125007266605, '10011100': -0.4850712500726659, '01111000': -0.3638034375544995, '10110100': 0.3638034375544995, '01001110': -0.3638034375544995, '10001101': 0.3638034375544995}\n"
     ]
    },
    {
     "data": {
      "application/vnd.jupyter.widget-view+json": {
       "model_id": "e3c54c47d12d410fa79fdab481baf1a8",
       "version_major": 2,
       "version_minor": 0
      },
      "text/plain": [
       "Computing VNE:   0%|          | 0/2 [00:00<?, ?it/s]"
      ]
     },
     "metadata": {},
     "output_type": "display_data"
    },
    {
     "ename": "TypeError",
     "evalue": "itemgetter expected 1 argument, got 0",
     "output_type": "error",
     "traceback": [
      "\u001b[0;31m---------------------------------------------------------------------------\u001b[0m",
      "\u001b[0;31mTypeError\u001b[0m                                 Traceback (most recent call last)",
      "Input \u001b[0;32mIn [4]\u001b[0m, in \u001b[0;36m<cell line: 1>\u001b[0;34m()\u001b[0m\n\u001b[0;32m----> 1\u001b[0m num_entangled, num_IOMs, computation_results \u001b[38;5;241m=\u001b[39m \u001b[43mKondoMERG\u001b[49m\u001b[43m(\u001b[49m\u001b[38;5;241;43m0.1\u001b[39;49m\u001b[43m,\u001b[49m\u001b[43m \u001b[49m\u001b[38;5;241;43m1\u001b[39;49m\u001b[43m,\u001b[49m\u001b[43m \u001b[49m\u001b[38;5;241;43m1\u001b[39;49m\u001b[43m)\u001b[49m\n",
      "Input \u001b[0;32mIn [3]\u001b[0m, in \u001b[0;36mKondoMERG\u001b[0;34m(J0_by_D0, num_entangled, num_IOMs)\u001b[0m\n\u001b[1;32m     10\u001b[0m \u001b[38;5;28mprint\u001b[39m (decomposition_arr[\u001b[38;5;241m0\u001b[39m])\n\u001b[1;32m     11\u001b[0m \u001b[38;5;28mprint\u001b[39m (decomposition_arr[\u001b[38;5;241m1\u001b[39m])\n\u001b[0;32m---> 12\u001b[0m computation_results \u001b[38;5;241m=\u001b[39m \u001b[43meigRG\u001b[49m\u001b[38;5;241;43m.\u001b[39;49m\u001b[43mcomputations\u001b[49m\u001b[43m(\u001b[49m\u001b[43mdecomposition_arr\u001b[49m\u001b[43m,\u001b[49m\n\u001b[1;32m     13\u001b[0m \u001b[43m                                        \u001b[49m\u001b[43m{\u001b[49m\u001b[38;5;124;43m\"\u001b[39;49m\u001b[38;5;124;43mVNE\u001b[39;49m\u001b[38;5;124;43m\"\u001b[39;49m\u001b[43m:\u001b[49m\u001b[43m \u001b[49m\u001b[43m[\u001b[49m\u001b[38;5;241;43m0\u001b[39;49m\u001b[43m,\u001b[49m\u001b[38;5;241;43m1\u001b[39;49m\u001b[43m,\u001b[49m\u001b[38;5;241;43m2\u001b[39;49m\u001b[43m,\u001b[49m\u001b[38;5;241;43m3\u001b[39;49m\u001b[43m]\u001b[49m\u001b[43m,\u001b[49m\n\u001b[1;32m     14\u001b[0m \u001b[43m                                        \u001b[49m\u001b[43m}\u001b[49m\n\u001b[1;32m     15\u001b[0m \u001b[43m                                       \u001b[49m\u001b[43m)\u001b[49m\n\u001b[1;32m     16\u001b[0m \u001b[38;5;28;01mreturn\u001b[39;00m num_entangled, num_IOMs, computation_results\n",
      "File \u001b[0;32m~/storage/work/WavefunctionMERG/source/eigenstateRG.py:176\u001b[0m, in \u001b[0;36mcomputations\u001b[0;34m(decomposition_arr, computables)\u001b[0m\n\u001b[1;32m    172\u001b[0m \u001b[38;5;66;03m# loop over all the computables that have been required\u001b[39;00m\n\u001b[1;32m    173\u001b[0m \u001b[38;5;66;03m# for each computable, loop over the coefficient RG flow\u001b[39;00m\n\u001b[1;32m    174\u001b[0m \u001b[38;5;66;03m# and perform the computation at every RG step.\u001b[39;00m\n\u001b[1;32m    175\u001b[0m \u001b[38;5;28;01mfor\u001b[39;00m computable, members \u001b[38;5;129;01min\u001b[39;00m computables\u001b[38;5;241m.\u001b[39mitems():\n\u001b[0;32m--> 176\u001b[0m     computations[computable] \u001b[38;5;241m=\u001b[39m [funcNameMaps[computable](decomposition, members) \u001b[38;5;28;01mfor\u001b[39;00m decomposition \u001b[38;5;129;01min\u001b[39;00m tqdm(decomposition_arr, total\u001b[38;5;241m=\u001b[39m\u001b[38;5;28mlen\u001b[39m(decomposition_arr), disable\u001b[38;5;241m=\u001b[39m\u001b[38;5;28;01mFalse\u001b[39;00m, desc\u001b[38;5;241m=\u001b[39m\u001b[38;5;124m\"\u001b[39m\u001b[38;5;124mComputing \u001b[39m\u001b[38;5;132;01m{}\u001b[39;00m\u001b[38;5;124m\"\u001b[39m\u001b[38;5;241m.\u001b[39mformat(computable))]\n\u001b[1;32m    177\u001b[0m \u001b[38;5;28;01mreturn\u001b[39;00m computations\n",
      "File \u001b[0;32m~/storage/work/WavefunctionMERG/source/eigenstateRG.py:176\u001b[0m, in \u001b[0;36m<listcomp>\u001b[0;34m(.0)\u001b[0m\n\u001b[1;32m    172\u001b[0m \u001b[38;5;66;03m# loop over all the computables that have been required\u001b[39;00m\n\u001b[1;32m    173\u001b[0m \u001b[38;5;66;03m# for each computable, loop over the coefficient RG flow\u001b[39;00m\n\u001b[1;32m    174\u001b[0m \u001b[38;5;66;03m# and perform the computation at every RG step.\u001b[39;00m\n\u001b[1;32m    175\u001b[0m \u001b[38;5;28;01mfor\u001b[39;00m computable, members \u001b[38;5;129;01min\u001b[39;00m computables\u001b[38;5;241m.\u001b[39mitems():\n\u001b[0;32m--> 176\u001b[0m     computations[computable] \u001b[38;5;241m=\u001b[39m [\u001b[43mfuncNameMaps\u001b[49m\u001b[43m[\u001b[49m\u001b[43mcomputable\u001b[49m\u001b[43m]\u001b[49m\u001b[43m(\u001b[49m\u001b[43mdecomposition\u001b[49m\u001b[43m,\u001b[49m\u001b[43m \u001b[49m\u001b[43mmembers\u001b[49m\u001b[43m)\u001b[49m \u001b[38;5;28;01mfor\u001b[39;00m decomposition \u001b[38;5;129;01min\u001b[39;00m tqdm(decomposition_arr, total\u001b[38;5;241m=\u001b[39m\u001b[38;5;28mlen\u001b[39m(decomposition_arr), disable\u001b[38;5;241m=\u001b[39m\u001b[38;5;28;01mFalse\u001b[39;00m, desc\u001b[38;5;241m=\u001b[39m\u001b[38;5;124m\"\u001b[39m\u001b[38;5;124mComputing \u001b[39m\u001b[38;5;132;01m{}\u001b[39;00m\u001b[38;5;124m\"\u001b[39m\u001b[38;5;241m.\u001b[39mformat(computable))]\n\u001b[1;32m    177\u001b[0m \u001b[38;5;28;01mreturn\u001b[39;00m computations\n",
      "File \u001b[0;32m~/storage/work/WavefunctionMERG/source/fermionise.py:365\u001b[0m, in \u001b[0;36mgetEntanglementEntropy\u001b[0;34m(genState, parties)\u001b[0m\n\u001b[1;32m    360\u001b[0m \u001b[38;5;124;03m\"\"\" Calculate entanglement entropy for the given state and the given parties.\u001b[39;00m\n\u001b[1;32m    361\u001b[0m \u001b[38;5;124;03mS(A) = trace(rho_A ln rho_A)\u001b[39;00m\n\u001b[1;32m    362\u001b[0m \u001b[38;5;124;03m\"\"\"\u001b[39;00m\n\u001b[1;32m    364\u001b[0m \u001b[38;5;66;03m# get the reduced density matrix\u001b[39;00m\n\u001b[0;32m--> 365\u001b[0m redDenMat \u001b[38;5;241m=\u001b[39m \u001b[43mgetReducedDensityMatrix\u001b[49m\u001b[43m(\u001b[49m\u001b[43mgenState\u001b[49m\u001b[43m,\u001b[49m\u001b[43m \u001b[49m\u001b[43mparties\u001b[49m\u001b[43m)\u001b[49m\n\u001b[1;32m    367\u001b[0m \u001b[38;5;66;03m# get its spectrum\u001b[39;00m\n\u001b[1;32m    368\u001b[0m eigvals,_ \u001b[38;5;241m=\u001b[39m scipy\u001b[38;5;241m.\u001b[39mlinalg\u001b[38;5;241m.\u001b[39meigh(redDenMat)\n",
      "File \u001b[0;32m~/storage/work/WavefunctionMERG/source/fermionise.py:345\u001b[0m, in \u001b[0;36mgetReducedDensityMatrix\u001b[0;34m(genState, partiesRemain)\u001b[0m\n\u001b[1;32m    343\u001b[0m \u001b[38;5;28;01mfor\u001b[39;00m state, coeff \u001b[38;5;129;01min\u001b[39;00m genState\u001b[38;5;241m.\u001b[39mitems():\n\u001b[1;32m    344\u001b[0m     lR \u001b[38;5;241m=\u001b[39m get_substring(state, partiesRemain)\n\u001b[0;32m--> 345\u001b[0m     lT \u001b[38;5;241m=\u001b[39m \u001b[43mget_substring\u001b[49m\u001b[43m(\u001b[49m\u001b[43mstate\u001b[49m\u001b[43m,\u001b[49m\u001b[43m \u001b[49m\u001b[43mpartiesTraced\u001b[49m\u001b[43m)\u001b[49m\n\u001b[1;32m    346\u001b[0m     \u001b[38;5;28;01mif\u001b[39;00m lT \u001b[38;5;129;01mnot\u001b[39;00m \u001b[38;5;129;01min\u001b[39;00m dictionary:\n\u001b[1;32m    347\u001b[0m         dictionary[lT] \u001b[38;5;241m=\u001b[39m \u001b[38;5;28mdict\u001b[39m([(state, \u001b[38;5;241m0\u001b[39m) \u001b[38;5;28;01mfor\u001b[39;00m state \u001b[38;5;129;01min\u001b[39;00m remainBasis])\n",
      "File \u001b[0;32m~/storage/work/WavefunctionMERG/source/fermionise.py:335\u001b[0m, in \u001b[0;36mgetReducedDensityMatrix.<locals>.<lambda>\u001b[0;34m(string, sub_indices)\u001b[0m\n\u001b[1;32m    324\u001b[0m \u001b[38;5;124;03m\"\"\" Returns the reduced density matrix, given a state and a set of parties \u001b[39;00m\n\u001b[1;32m    325\u001b[0m \u001b[38;5;124;03mpartiesRemain that will not be traced over. The state is provided in the form\u001b[39;00m\n\u001b[1;32m    326\u001b[0m \u001b[38;5;124;03mof a set of coefficients and classical states. The calculation will happen through the expression\u001b[39;00m\n\u001b[1;32m    327\u001b[0m \u001b[38;5;124;03mrho = |psi><psi| =  sum_ij |psi^A_i>|psi^B_i><psi^A_j|<psi^B_j|,\u001b[39;00m\n\u001b[1;32m    328\u001b[0m \u001b[38;5;124;03mrho_A =  sum_ij  sum_{b_B} |psi^A_i><psi^A_j|<b_B|psi^B_i><psi^B_j|b_B>\u001b[39;00m\n\u001b[1;32m    329\u001b[0m \u001b[38;5;124;03m\"\"\"\u001b[39;00m\n\u001b[1;32m    331\u001b[0m \u001b[38;5;66;03m# if len(partiesRemain) == len(list(genState.keys())[0]):\u001b[39;00m\n\u001b[1;32m    332\u001b[0m \u001b[38;5;66;03m#     redDenMat = np.outer(list(genState.values()), list(genState.values()))\u001b[39;00m\n\u001b[1;32m    333\u001b[0m \u001b[38;5;66;03m#     return redDenMat\u001b[39;00m\n\u001b[0;32m--> 335\u001b[0m get_substring \u001b[38;5;241m=\u001b[39m \u001b[38;5;28;01mlambda\u001b[39;00m string, sub_indices: \u001b[38;5;124m\"\u001b[39m\u001b[38;5;124m\"\u001b[39m\u001b[38;5;241m.\u001b[39mjoin(\u001b[43mitemgetter\u001b[49m\u001b[43m(\u001b[49m\u001b[38;5;241;43m*\u001b[39;49m\u001b[43msub_indices\u001b[49m\u001b[43m)\u001b[49m(string))\n\u001b[1;32m    337\u001b[0m remainBasis \u001b[38;5;241m=\u001b[39m getBasis(\u001b[38;5;28mlen\u001b[39m(partiesRemain))\n\u001b[1;32m    339\u001b[0m \u001b[38;5;66;03m# get the set of indices that will be traced over by taking the complement of the set partiesRemain.\u001b[39;00m\n",
      "\u001b[0;31mTypeError\u001b[0m: itemgetter expected 1 argument, got 0"
     ]
    }
   ],
   "source": [
    "num_entangled, num_IOMs, computation_results = KondoMERG(0.1, 1, 1)\n",
    "# plt.plot(range(num_entangled, num_entangled + 2 * num_IOMs + 1, 2), computation_results[\"I2\"], marker='o')\n",
    "# plt.ylabel(r\"$I_2(d:k_1)$\")\n",
    "# plt.xlabel(\"number of entangled k-states\")\n",
    "# plt.show()"
   ]
  },
  {
   "cell_type": "code",
   "execution_count": null,
   "id": "a1dd2f4e-a7d0-430f-b03b-23ac73fda46a",
   "metadata": {},
   "outputs": [],
   "source": [
    "num_bath = 5\n",
    "mbbasis = fermionise.getBasis(2 * (1 + num_bath))\n",
    "Ek = np.linspace(1, 1, num_bath)\n",
    "fixedPointCouplings = [Ek, 1, 0]\n",
    "KondoHam = fermionise.getKondoHamiltonian(mbbasis, num_bath, fixedPointCouplings)\n",
    "# eigvals, eigstates = fermionise.diagonalise(mbbasis, KondoHam)\n",
    "# SdplusSkminus = {\"+-+-\": [[1, [0, 1, 3, 2]]]}\n",
    "# SdplusSkminusExpVal = fermionise.matrixElement(eigstates[0], SdplusSkminus, eigstates[0])\n",
    "# print (SdplusSkminusExpVal)"
   ]
  },
  {
   "cell_type": "code",
   "execution_count": null,
   "id": "275bd0e9-8ed6-4e99-a9e0-901c7188b19a",
   "metadata": {},
   "outputs": [],
   "source": []
  }
 ],
 "metadata": {
  "kernelspec": {
   "display_name": "Python 3 (ipykernel)",
   "language": "python",
   "name": "python3"
  },
  "language_info": {
   "codemirror_mode": {
    "name": "ipython",
    "version": 3
   },
   "file_extension": ".py",
   "mimetype": "text/x-python",
   "name": "python",
   "nbconvert_exporter": "python",
   "pygments_lexer": "ipython3",
   "version": "3.9.16"
  },
  "widgets": {
   "application/vnd.jupyter.widget-state+json": {
    "state": {},
    "version_major": 2,
    "version_minor": 0
   }
  }
 },
 "nbformat": 4,
 "nbformat_minor": 5
}
