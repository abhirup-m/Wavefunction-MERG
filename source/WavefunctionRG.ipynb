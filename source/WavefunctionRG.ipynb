{
 "cells": [
  {
   "cell_type": "code",
   "execution_count": 11,
   "id": "81f399ed-10cd-4e48-8ab7-257b1719b433",
   "metadata": {},
   "outputs": [],
   "source": [
    "%load_ext autoreload\n",
    "%autoreload 2\n",
    "\n",
    "from tqdm import tqdm\n",
    "from math import sqrt,erf\n",
    "from multiprocessing import Pool\n",
    "from itertools import product, repeat\n",
    "from matplotlib import pyplot as plt\n",
    "from matplotlib import animation\n",
    "import matplotlib as mpl\n",
    "import numpy as np\n",
    "from varname import nameof\n",
    "from itertools import product\n",
    "from matplotlib.cm import get_cmap\n",
    "import colorcet as cc\n",
    "import subprocess\n",
    "import os, shutil\n",
    "from time import time\n",
    "import functools\n",
    "from scipy import special\n",
    "import scipy\n",
    "from IPython.display import display, clear_output\n",
    "import fermionise as fermionise\n",
    "import eigenstateRG as eigRG\n",
    "\n",
    "\n",
    "plt.style.use('ggplot')\n",
    "markers = [\"o\", \"X\", \"P\", \"p\", \"*\"]\n",
    "cols = [p['color'] for p in plt.rcParams['axes.prop_cycle']]\n",
    "plt.rc('text.latex', preamble=r'\\usepackage{amsmath}\\usepackage{braket}\\usepackage{nicefrac}')\n",
    "plt.rcParams.update({'font.size': 30,\n",
    "                     'figure.figsize': (11,7),\n",
    "                     'axes.facecolor': 'white',\n",
    "                     'axes.edgecolor': 'lightgray',\n",
    "                     \"figure.autolayout\": 'True',\n",
    "                     'axes.xmargin': 0.03,\n",
    "                     'axes.ymargin': 0.05,\n",
    "                     'axes.grid': False,\n",
    "                     'axes.linewidth': 5,\n",
    "                     'lines.markersize': 15,\n",
    "                     'text.usetex': True,\n",
    "                     'lines.linewidth': 8,\n",
    "                     \"legend.frameon\": True,\n",
    "                     \"legend.framealpha\": 0.7,\n",
    "                     \"legend.handletextpad\": 1,\n",
    "                     \"legend.edgecolor\": \"black\",\n",
    "                     \"legend.handlelength\": 1,\n",
    "                     \"legend.labelspacing\": 0,\n",
    "                     \"legend.columnspacing\": 1,\n",
    "                     \"legend.fontsize\": 35,\n",
    "                    })\n",
    "linestyles = [\"-\", \"--\", \":\"]\n",
    "bbox = dict(boxstyle=\"round\", facecolor=\"lightgray\")\n",
    "\n",
    "D0 = 1\n",
    "deltaD = 0.001\n",
    "plt.plot([], [])\n",
    "plt.show()\n",
    "clear_output()"
   ]
  },
  {
   "cell_type": "code",
   "execution_count": 12,
   "id": "be4980e0-0f11-4b3f-a22f-744e1ee2ea58",
   "metadata": {},
   "outputs": [],
   "source": [
    "def get_RG_flow(J0_by_D0, Ub_by_J=0, plot=False):\n",
    "    \"\"\" Returns the flow of couplings in the form of two ndarrays J and D.\n",
    "    Each ndarray is in ascending order of the bandwidth. \"\"\"\n",
    "    J0 = D0 * J0_by_D0\n",
    "    Ub = - Ub_by_J * J0\n",
    "    omega = -D0/2\n",
    "    \n",
    "    ### initialise arrays with UV values\n",
    "    D = [D0]\n",
    "    J = [J0]\n",
    "    \n",
    "    ### apply URG transformations until bandwith vanishes\n",
    "    ### or J reduces to zero.\n",
    "    while D[-1] >= deltaD and J[-1] >= 0:\n",
    "        \n",
    "        ### URG equation\n",
    "        deltaJ = - J[-1] * (J[-1] + 4 * Ub) / (omega - D[-1]/2 + J[-1]/4) * deltaD\n",
    "        \n",
    "        ### Check if denominator has changed sign, \n",
    "        ### then append renormalised values to array\n",
    "        if (omega - (D[-1] - deltaD)/2 + (J[-1] + deltaJ)/4) * (omega - D0/2 + J0/4) > 0:\n",
    "            D.append(D[-1] - deltaD)\n",
    "            J.append(J[-1] + deltaJ)\n",
    "        else:\n",
    "            break\n",
    "    \n",
    "    ### plot values\n",
    "    if plot:\n",
    "        plt.plot(np.array(D)/D0, np.array(J)/J0, marker=\"o\")\n",
    "        plt.xlabel(r\"$D/D_0$\")\n",
    "        plt.ylabel(r\"$J/J_0$\")\n",
    "    return np.flip(D), np.flip(J)"
   ]
  },
  {
   "cell_type": "code",
   "execution_count": 16,
   "id": "653e42bd-ea78-416b-ba31-b3b9e648b8cf",
   "metadata": {},
   "outputs": [
    {
     "name": "stdout",
     "output_type": "stream",
     "text": [
      "[1, 0]\n",
      "G-state energy: [-2.78671074]\n",
      "↓|0|↑\t\t↓|↑|0\t\t↑|0|↓\t\t↑|↓|0\n",
      "0.5\t\t0.5\t\t-0.5\t\t-0.5\n"
     ]
    },
    {
     "name": "stderr",
     "output_type": "stream",
     "text": [
      "\n",
      "100%|████████████████████████████████████████████████████████████████████████████████████████████████████████████████████████████████████████| 4/4 [00:00<00:00, 7731.44it/s]\u001b[A\n",
      "\n",
      "100%|██████████████████████████████████████████████████████████████████████████████████████████████████████████████████████████████████████| 14/14 [00:00<00:00, 1052.98it/s]\u001b[A\n"
     ]
    },
    {
     "name": "stdout",
     "output_type": "stream",
     "text": [
      "[{'010010': 0.499790766, '011000': 0.5002091465, '100001': -0.499790766, '100100': -0.5002091465}, {'01001011': 0.0005112831884372641, '01100011': 0.0005117111893740002, '10000111': -0.0005112831884372641, '10010011': -0.0005117111893740002, '01101001': 0.0001479197701661339, '01011010': -0.3535531823857567, '01001110': 0.3534052626155906, '10011001': 0.3535531823857567, '10001101': -0.3534052626155906, '01110010': 0.3537011021559229, '01100110': 0.3535531823857567, '10110001': -0.3537011021559229, '10100101': -0.3535531823857567, '10010110': 0.0001479197701661339}, {'0100101100': 4.677534352867797e-07, '0110001100': 4.6814499697508037e-07, '1000011100': -4.677534352867797e-07, '1001001100': -4.6814499697508037e-07, '0110100100': 1.3532614059445032e-07, '0101101000': -0.00032345228506922274, '0100111000': 0.00032331695892862827, '1001100100': 0.00032345228506922274, '1000110100': -0.00032331695892862827, '0111001000': 0.0003235876112098172, '0110011000': 0.00032345228506922274, '1011000100': -0.0003235876112098172, '1010010100': -0.00032345228506922274, '1001011000': 1.3532614059445032e-07, '0100001110': 0.0006469045701384455, '0100100110': -0.2236423387801158, '0100101001': 0.22336579137212986, '1000001101': -0.0006469045701384455, '1000100101': 0.2236423387801158, '0110000110': -0.22382955231002724, '0110001001': 0.2234591951478747, '1010000101': 0.22382955231002724, '1000010110': 0.22336579137212986, '1000011001': -0.22364233878011577, '0100011010': 0.22364233878011577, '1001000110': 0.2234591951478747, '1001001001': -0.22382955231002724, '0101001010': 0.22382955231002724, '0110100001': -4.676955094271039e-05, '0101100010': -0.2235742194025369, '1001100001': 0.2235742194025369, '0100110010': 0.2234806803006515, '1000110001': -0.2234806803006515, '0111000010': 0.22366775850442236, '1011000001': -0.22366775850442236, '0110010010': 0.2235742194025369, '1010010001': -0.2235742194025369, '1001010010': -4.676955094271039e-05}]\n"
     ]
    },
    {
     "name": "stderr",
     "output_type": "stream",
     "text": [
      "\n",
      "Computing VNE: 100%|█████████████████████████████████████████████████████████████████████████████████████████████████████████████████████████| 3/3 [00:00<00:00, 1085.20it/s]\u001b[A\n"
     ]
    }
   ],
   "source": [
    "def KondoMERG(J0_by_D0, num_entangled, both_sectors=False):\n",
    "    D, J = get_RG_flow(J0_by_D0)\n",
    "    omega = -D0/2\n",
    "    time_list = []\n",
    "    # for num_IOMs in range(2, 15, 2):\n",
    "    for num_IOMs in [2]:\n",
    "        t = time()\n",
    "        Ek = np.linspace(D[0] - deltaD * num_entangled, D[0], num_entangled)\n",
    "        if both_sectors:\n",
    "            alpha_arr = np.repeat([Ji / (2 * (omega - Di/2 + Ji/4)) for Ji, Di in zip(J, D)], 2)[:num_IOMs]\n",
    "            IOMconfigs = [1 if i % 2 == 0 else 0 for i in range(num_IOMs)]\n",
    "            print (IOMconfigs)\n",
    "        else:\n",
    "            alpha_arr = [Ji / (2 * (omega - Di/2 + Ji/4)) for Ji, Di in zip(J, D)][:num_IOMs]\n",
    "            IOMconfigs = [0] * num_IOMs\n",
    "        # print (Ek)\n",
    "        init_couplings = [Ek, J[0], 0]\n",
    "        decomposition_arr = eigRG.getWavefunctionRG(init_couplings, alpha_arr, num_entangled, num_IOMs, \n",
    "                                                   IOMconfigs, fermionise.getKondoHamiltonian, eigRG.getEtaKondo, silent=False\n",
    "                                                  )\n",
    "        print (decomposition_arr)\n",
    "        computation_results = eigRG.computations(decomposition_arr,\n",
    "                                                {\"VNE\": [2, 3],\n",
    "                                                }\n",
    "                                               )\n",
    "\n",
    "KondoMERG(0.5, 2, True)"
   ]
  },
  {
   "cell_type": "code",
   "execution_count": null,
   "id": "e3946730-5200-41d3-99dc-d4be967b0579",
   "metadata": {},
   "outputs": [],
   "source": [
    "states = [[1,0], [1,1], [0,1]]\n",
    "coeffs = [0.1, 0.2, 0.3]\n"
   ]
  },
  {
   "cell_type": "code",
   "execution_count": null,
   "id": "cc99cead-9b87-4df0-9281-cbe342047599",
   "metadata": {},
   "outputs": [],
   "source": [
    "def func(args):\n",
    "    x, n = args\n",
    "    return x**(3**3**2)\n",
    "\n",
    "num = 1000\n",
    "power = 10\n",
    "t = time()\n",
    "results1 = [func((x, power)) for x in range(1, num)]\n",
    "print (time() - t)\n",
    "t = time()\n",
    "results2 = Pool().map(func, [(x, power) for x in range(1, num)], chunksize=50)\n",
    "# print (workers[0].get())\n",
    "# print (workers[1])\n",
    "# results = [worker.get() for worker in workers]\n",
    "print (time() - t)"
   ]
  },
  {
   "cell_type": "code",
   "execution_count": null,
   "id": "63587874-8370-4c58-b345-a82344765553",
   "metadata": {},
   "outputs": [],
   "source": [
    "def func(x):\n",
    "    return np.arange(3)**x**4\n",
    "\n",
    "p = Pool()\n",
    "result = p.apply_async(func, (2,)).get()\n",
    "print(result)"
   ]
  },
  {
   "cell_type": "code",
   "execution_count": null,
   "id": "710fb74a-6e15-4f0c-af96-afa0cfe52127",
   "metadata": {},
   "outputs": [],
   "source": [
    "import os\n",
    "os.cpu_count()"
   ]
  },
  {
   "cell_type": "code",
   "execution_count": null,
   "id": "e369d837-f749-46b8-ac39-cc8f68443ff2",
   "metadata": {},
   "outputs": [],
   "source": [
    "d1 = dict([(\"a\", 1), (\"b\", 2)])\n",
    "d2 = dict([(\"a\", 0), (\"b\", 0), (\"c\", 0)])\n",
    "d2.update(d1)\n",
    "d2"
   ]
  },
  {
   "cell_type": "code",
   "execution_count": null,
   "id": "e29db127-d61c-4421-b4ab-8ba2d6b12fb9",
   "metadata": {},
   "outputs": [],
   "source": []
  }
 ],
 "metadata": {
  "kernelspec": {
   "display_name": "Python 3 (ipykernel)",
   "language": "python",
   "name": "python3"
  },
  "language_info": {
   "codemirror_mode": {
    "name": "ipython",
    "version": 3
   },
   "file_extension": ".py",
   "mimetype": "text/x-python",
   "name": "python",
   "nbconvert_exporter": "python",
   "pygments_lexer": "ipython3",
   "version": "3.11.5"
  },
  "widgets": {
   "application/vnd.jupyter.widget-state+json": {
    "state": {},
    "version_major": 2,
    "version_minor": 0
   }
  }
 },
 "nbformat": 4,
 "nbformat_minor": 5
}
