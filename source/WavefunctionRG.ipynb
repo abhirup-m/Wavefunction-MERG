{
 "cells": [
  {
   "cell_type": "code",
   "execution_count": 6,
   "id": "81f399ed-10cd-4e48-8ab7-257b1719b433",
   "metadata": {},
   "outputs": [],
   "source": [
    "%load_ext autoreload\n",
    "%autoreload 2\n",
    "%load_ext line_profiler\n",
    "\n",
    "from tqdm import tqdm\n",
    "from math import sqrt,erf\n",
    "from multiprocessing import Pool\n",
    "from itertools import product, repeat\n",
    "from matplotlib import pyplot as plt\n",
    "from matplotlib import animation\n",
    "import matplotlib as mpl\n",
    "import numpy as np\n",
    "from varname import nameof\n",
    "from itertools import product\n",
    "from matplotlib.cm import get_cmap\n",
    "import colorcet as cc\n",
    "import subprocess\n",
    "import os, shutil\n",
    "from time import time\n",
    "import functools\n",
    "from scipy import special\n",
    "import scipy\n",
    "from IPython.display import display, clear_output\n",
    "import fermionise as fermionise\n",
    "import eigenstateRG as eigRG\n",
    "\n",
    "\n",
    "\n",
    "plt.style.use('ggplot')\n",
    "markers = [\"o\", \"X\", \"P\", \"p\", \"*\"]\n",
    "cols = [p['color'] for p in plt.rcParams['axes.prop_cycle']]\n",
    "plt.rc('text.latex', preamble=r'\\usepackage{amsmath}\\usepackage{braket}\\usepackage{nicefrac}')\n",
    "plt.rcParams.update({'font.size': 30,\n",
    "                     'figure.figsize': (11,7),\n",
    "                     'axes.facecolor': 'white',\n",
    "                     'axes.edgecolor': 'lightgray',\n",
    "                     \"figure.autolayout\": 'True',\n",
    "                     'axes.xmargin': 0.03,\n",
    "                     'axes.ymargin': 0.05,\n",
    "                     'axes.grid': False,\n",
    "                     'axes.linewidth': 5,\n",
    "                     'lines.markersize': 15,\n",
    "                     'text.usetex': True,\n",
    "                     'lines.linewidth': 8,\n",
    "                     \"legend.frameon\": True,\n",
    "                     \"legend.framealpha\": 0.7,\n",
    "                     \"legend.handletextpad\": 1,\n",
    "                     \"legend.edgecolor\": \"black\",\n",
    "                     \"legend.handlelength\": 1,\n",
    "                     \"legend.labelspacing\": 0,\n",
    "                     \"legend.columnspacing\": 1,\n",
    "                     \"legend.fontsize\": 35,\n",
    "                    })\n",
    "linestyles = [\"-\", \"--\", \":\"]\n",
    "bbox = dict(boxstyle=\"round\", facecolor=\"lightgray\")\n",
    "\n",
    "D0 = 1\n",
    "deltaD = 0.001\n",
    "plt.plot([], [])\n",
    "plt.show()\n",
    "clear_output()"
   ]
  },
  {
   "cell_type": "code",
   "execution_count": 7,
   "id": "be4980e0-0f11-4b3f-a22f-744e1ee2ea58",
   "metadata": {},
   "outputs": [],
   "source": [
    "def get_RG_flow(J0_by_D0, Ub_by_J=0, plot=False):\n",
    "    \"\"\" Returns the flow of couplings in the form of two ndarrays J and D.\n",
    "    Each ndarray is in ascending order of the bandwidth. \"\"\"\n",
    "    J0 = D0 * J0_by_D0\n",
    "    Ub = - Ub_by_J * J0\n",
    "    omega = -D0/2\n",
    "    \n",
    "    ### initialise arrays with UV values\n",
    "    D = [D0]\n",
    "    J = [J0]\n",
    "    \n",
    "    ### apply URG transformations until bandwith vanishes\n",
    "    ### or J reduces to zero.\n",
    "    while D[-1] >= deltaD and J[-1] >= 0:\n",
    "        \n",
    "        ### URG equation\n",
    "        deltaJ = - J[-1] * (J[-1] + 4 * Ub) / (omega - D[-1]/2 + J[-1]/4) * deltaD\n",
    "        \n",
    "        ### Check if denominator has changed sign, \n",
    "        ### then append renormalised values to array\n",
    "        if (omega - (D[-1] - deltaD)/2 + (J[-1] + deltaJ)/4) * (omega - D0/2 + J0/4) > 0:\n",
    "            D.append(D[-1] - deltaD)\n",
    "            J.append(J[-1] + deltaJ)\n",
    "        else:\n",
    "            break\n",
    "    \n",
    "    ### plot values\n",
    "    if plot:\n",
    "        plt.plot(np.array(D)/D0, np.array(J)/J0, marker=\"o\")\n",
    "        plt.xlabel(r\"$D/D_0$\")\n",
    "        plt.ylabel(r\"$J/J_0$\")\n",
    "    return np.flip(D), np.flip(J)"
   ]
  },
  {
   "cell_type": "code",
   "execution_count": 8,
   "id": "653e42bd-ea78-416b-ba31-b3b9e648b8cf",
   "metadata": {},
   "outputs": [],
   "source": [
    "def KondoMERG(J0_by_D0, num_entangled, num_IOMs):\n",
    "    D, J = get_RG_flow(J0_by_D0)\n",
    "    omega = -D0/2\n",
    "    Ek = np.linspace(deltaD, D[0], num_entangled)\n",
    "    alpha_arr = [Ji / (2 * (omega - Di/2 + Ji/4)) for Ji, Di in zip(J, D)][:num_IOMs]\n",
    "    init_couplings = [Ek, J[0], 0]\n",
    "    decomposition_arr = eigRG.getWavefunctionRG(init_couplings, alpha_arr, num_entangled, num_IOMs, \n",
    "                                                fermionise.getKondoHamiltonian, eigRG.getEtaKondo, \n",
    "                                              )\n",
    "    computation_results = eigRG.computations(decomposition_arr,\n",
    "                                            {\"VNE\": [2, 3],\n",
    "                                            }\n",
    "                                           )\n",
    "    return num_entangled, num_IOMs, computation_results"
   ]
  },
  {
   "cell_type": "code",
   "execution_count": 9,
   "id": "1446b047-bd58-4a06-98bc-4e7c6827a1f8",
   "metadata": {},
   "outputs": [
    {
     "name": "stderr",
     "output_type": "stream",
     "text": [
      "Obtaining operators for n .: 100%|████████████████████████████████████████████████████████████████████████████████████████████████████████████████████████████| 2/2 [00:00<00:00, 3272.96it/s]\n",
      "Obtaining operators for n+- .: 100%|██████████████████████████████████████████████████████████████████████████████████████████████████████████████████████████| 4/4 [00:00<00:00, 2488.83it/s]\n",
      "Obtaining operators for +-+- .: 100%|█████████████████████████████████████████████████████████████████████████████████████████████████████████████████████████| 1/1 [00:00<00:00, 1726.05it/s]\n",
      "Obtaining operators for n .: 100%|████████████████████████████████████████████████████████████████████████████████████████████████████████████████████████████| 2/2 [00:00<00:00, 3275.52it/s]\n",
      "Expressing state in terms of basis.: 100%|█████████████████████████████████████████████████████████████████████████████████████████████████████████████████| 16/16 [00:00<00:00, 44413.54it/s]"
     ]
    },
    {
     "name": "stdout",
     "output_type": "stream",
     "text": [
      "[-0.08661899  0.        ]\n",
      "G-state energy: [-0.08661899]\n",
      "↓|↑\t\t↑|↓\n",
      "0.707\t\t-0.707\n"
     ]
    },
    {
     "name": "stderr",
     "output_type": "stream",
     "text": [
      "\n",
      "100%|██████████████████████████████████████████████████████████████████████████████████████████████████████████████████████████████████████████████████████████| 2/2 [00:00<00:00, 489.90it/s]\n",
      "100%|██████████████████████████████████████████████████████████████████████████████████████████████████████████████████████████████████████████████████████████| 2/2 [00:00<00:00, 569.45it/s]\n",
      "Computing VNE: 100%|██████████████████████████████████████████████████████████████████████████████████████████████████████████████████████████████████████████| 2/2 [00:00<00:00, 1299.95it/s]\n"
     ]
    },
    {
     "data": {
      "image/png": "[encoded data removed]",
      "text/plain": [
       "<Figure size 792x504 with 1 Axes>"
      ]
     },
     "metadata": {},
     "output_type": "display_data"
    }
   ],
   "source": [
    "num_entangled, num_IOMs, computation_results = KondoMERG(0.1, 1, 1)\n",
    "plt.plot(range(num_entangled, num_entangled + 2 * num_IOMs + 1, 2), computation_results[\"VNE\"], marker='o')\n",
    "plt.ylabel(r\"$I_2(d:k_1)$\")\n",
    "plt.xlabel(\"number of entangled k-states\")\n",
    "plt.show()"
   ]
  },
  {
   "cell_type": "code",
   "execution_count": null,
   "id": "03001367-6ae9-487e-839a-5c7dd9e17eb1",
   "metadata": {},
   "outputs": [],
   "source": []
  }
 ],
 "metadata": {
  "kernelspec": {
   "display_name": "Python 3 (ipykernel)",
   "language": "python",
   "name": "python3"
  },
  "language_info": {
   "codemirror_mode": {
    "name": "ipython",
    "version": 3
   },
   "file_extension": ".py",
   "mimetype": "text/x-python",
   "name": "python",
   "nbconvert_exporter": "python",
   "pygments_lexer": "ipython3",
   "version": "3.9.16"
  },
  "widgets": {
   "application/vnd.jupyter.widget-state+json": {
    "state": {},
    "version_major": 2,
    "version_minor": 0
   }
  }
 },
 "nbformat": 4,
 "nbformat_minor": 5
}
