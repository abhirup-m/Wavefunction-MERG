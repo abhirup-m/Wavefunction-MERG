{
 "cells": [
  {
   "cell_type": "code",
   "execution_count": null,
   "metadata": {},
   "outputs": [],
   "source": [
    "using JSON\n",
    "using Distributed\n",
    "using Plots\n",
    "using LaTeXStrings\n",
    "using ProgressMeter\n",
    "theme(:default)\n",
    "if nprocs() < length(Sys.cpu_info()) - 50\n",
    "    addprocs(length(Sys.cpu_info()) - 50 - nprocs())\n",
    "end\n",
    "println(\"Using \",nprocs(),\" processes.\")\n",
    "include(\"./fermionise.jl\")\n",
    "include(\"./models.jl\")\n",
    "include(\"./quantuminfo.jl\")"
   ]
  },
  {
   "cell_type": "code",
   "execution_count": null,
   "metadata": {},
   "outputs": [],
   "source": [
    "function main(numBath)\n",
    "    oneparthop_d0_arr = []\n",
    "    impBathSflip_arr = []\n",
    "    impBathCflip_arr = []\n",
    "    oneparthop_01_arr = []\n",
    "    basisStates = BasisStates(2 * (1 + numBath), 1 + numBath)\n",
    "    U_arr = 1:1:20\n",
    "    couplingsArray = [(1, 2, U, 1, -U, 0) for U in U_arr]\n",
    "    computables = (\n",
    "        [\"hh\" (1,2)],\n",
    "        [\"nh\" (1,2)],\n",
    "        [\"hn\" (1,2)],\n",
    "        [\"nn\" (1,2)],\n",
    "        [\"+-+-\" (1,2,4,3,)],\n",
    "        [\"+-+-\" (2,1,3,4)],\n",
    "        [\"++--\" (3,4,6,5)],\n",
    "        [\"++--\" (5,6,4,3)],\n",
    "        )\n",
    "    entanglementMeasures = (\n",
    "        [\"VNE\" (1, 2)],\n",
    "        [\"I2\" ([1,2],[3,4])],\n",
    "        [\"I2\" ([3,4],[5,6])],\n",
    "        )\n",
    "    \n",
    "    (imp_hh, imp_nh, imp_hn, imp_nn, d0_spm, d0_smp, AB_cpm, BA_cmp, vne_d, I2_d0, I2_d1) = ComputeCorrelations(basisStates, TOSHamiltonianRSpace, couplingsArray, computables, entanglementMeasures)\n",
    "    p = plot(palette = :Set1_9, thickness_scaling = 1.2, fontfamily=\"Roboto-Regular\")\n",
    "    plot!(U_arr, abs.(imp_hh), lw=3, label=\"h-occupancy\")\n",
    "    plot!(U_arr, abs.(imp_nn), lw=3, label=\"d-occupancy\")\n",
    "    plot!(U_arr, abs.(imp_hn + imp_nh), lw=3, label=\"1-occupancy\")\n",
    "    display(p)\n",
    "\n",
    "    p = plot(palette = :Set1_9, thickness_scaling = 1.2, fontfamily=\"Roboto-Regular\")\n",
    "    plot!(U_arr, abs.(d0_spm .+ d0_smp), lw=3, label=L\"\\langle S_d^+S_0^-\\rangle\")\n",
    "    plot!(U_arr, abs.(AB_cpm .+ BA_cmp), lw=3, label=L\"\\langle C_A^+ C_B^-\\rangle\")\n",
    "    xlabel!(L\"U/t_\\perp\")\n",
    "    ylabel!(\"correlations\")\n",
    "    display(p)\n",
    "    \n",
    "    p = plot(palette = :Set1_9, thickness_scaling = 1.2, fontfamily=\"Roboto-Regular\")\n",
    "    plot!(U_arr, vne_d, lw=3, label=L\"S_{EE}(d)\")\n",
    "    plot!(U_arr, I2_d1, lw=3, label=L\"$I_2(A:B)$\")\n",
    "    xlabel!(L\"U/t_\\perp\")\n",
    "    ylabel!(\"correlations\")\n",
    "    display(p)\n",
    "end\n",
    "\n",
    "println(main(4))"
   ]
  },
  {
   "cell_type": "code",
   "execution_count": null,
   "metadata": {},
   "outputs": [],
   "source": []
  }
 ],
 "metadata": {
  "kernelspec": {
   "display_name": "Julia 1.10.0",
   "language": "julia",
   "name": "julia-1.10"
  },
  "language_info": {
   "file_extension": ".jl",
   "mimetype": "application/julia",
   "name": "julia",
   "version": "1.10.0"
  }
 },
 "nbformat": 4,
 "nbformat_minor": 4
}
