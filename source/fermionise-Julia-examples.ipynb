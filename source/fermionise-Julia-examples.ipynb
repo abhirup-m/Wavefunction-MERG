{
 "cells": [
  {
   "cell_type": "code",
   "execution_count": null,
   "metadata": {},
   "outputs": [],
   "source": [
    "using Distributed\n",
    "addprocs(40)\n",
    "include(\"./fermionise.jl\")\n",
    "include(\"./models.jl\")\n",
    "include(\"./quantuminfo.jl\")"
   ]
  },
  {
   "cell_type": "code",
   "execution_count": null,
   "metadata": {},
   "outputs": [],
   "source": [
    "function main(numBath)\n",
    "    basisStates = BasisStates(2 * (1 + numBath))\n",
    "    hamiltonian = TOSHamiltonianRSpace(basisStates, div(numBath, 2), [1, 20, 1, 10, 1])\n",
    "    E, X = diagonalise(basisStates, hamiltonian)\n",
    "    println(E)\n",
    "    I2_dA = MutualInfo(X[2], [1; 2], [3; 4])\n",
    "    I2_dB = MutualInfo(X[2], [1; 2], [6; 5])\n",
    "    return I2_dA, I2_dB\n",
    "end\n",
    "\n",
    "main(4)"
   ]
  },
  {
   "cell_type": "code",
   "execution_count": null,
   "metadata": {},
   "outputs": [],
   "source": []
  }
 ],
 "metadata": {
  "kernelspec": {
   "display_name": "Julia 1.10.0",
   "language": "julia",
   "name": "julia-1.10"
  },
  "language_info": {
   "file_extension": ".jl",
   "mimetype": "application/julia",
   "name": "julia",
   "version": "1.10.0"
  }
 },
 "nbformat": 4,
 "nbformat_minor": 4
}
