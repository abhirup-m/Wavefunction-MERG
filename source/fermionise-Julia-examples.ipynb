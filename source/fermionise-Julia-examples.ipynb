{
 "cells": [
  {
   "cell_type": "code",
   "execution_count": null,
   "metadata": {},
   "outputs": [],
   "source": [
    "include(\"./fermionise.jl\")\n",
    "include(\"./models.jl\")\n",
    "include(\"./quantuminfo.jl\")"
   ]
  },
  {
   "cell_type": "code",
   "execution_count": null,
   "metadata": {},
   "outputs": [],
   "source": [
    "function main(numBath)\n",
    "    basisStates = BasisStates(2 * (1 + numBath), 1 + numBath, 0.)\n",
    "    hamiltonian = KondoHamiltonian(basisStates, numBath, [[1], 10])\n",
    "    E, X = diagonalise(basisStates, hamiltonian)\n",
    "    EE_imp = EntanglementEntropy(X[1], [1, 2])\n",
    "end\n",
    "\n",
    "main(1)"
   ]
  }
 ],
 "metadata": {
  "kernelspec": {
   "display_name": "Julia 1.10.0",
   "language": "julia",
   "name": "julia-1.10"
  },
  "language_info": {
   "file_extension": ".jl",
   "mimetype": "application/julia",
   "name": "julia",
   "version": "1.10.0"
  }
 },
 "nbformat": 4,
 "nbformat_minor": 4
}
