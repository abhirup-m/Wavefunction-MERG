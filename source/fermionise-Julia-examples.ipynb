{
 "cells": [
  {
   "cell_type": "code",
   "execution_count": 1,
   "metadata": {},
   "outputs": [
    {
     "name": "stdout",
     "output_type": "stream",
     "text": [
      "Using 46 processes.\n"
     ]
    },
    {
     "data": {
      "text/plain": [
       "MutualInfo (generic function with 1 method)"
      ]
     },
     "execution_count": 1,
     "metadata": {},
     "output_type": "execute_result"
    }
   ],
   "source": [
    "using JSON\n",
    "using Distributed\n",
    "using Plots\n",
    "using LaTeXStrings\n",
    "using ProgressMeter\n",
    "theme(:default)\n",
    "if nprocs() < length(Sys.cpu_info()) - 50\n",
    "    addprocs(length(Sys.cpu_info()) - 50 - nprocs())\n",
    "end\n",
    "println(\"Using \",nprocs(),\" processes.\")\n",
    "include(\"./fermionise.jl\")\n",
    "include(\"./models.jl\")\n",
    "include(\"./quantuminfo.jl\")"
   ]
  },
  {
   "cell_type": "code",
   "execution_count": null,
   "metadata": {},
   "outputs": [],
   "source": [
    "function main(numBath)\n",
    "    oneparthop_d0_arr = []\n",
    "    impBathSflip_arr = []\n",
    "    impBathCflip_arr = []\n",
    "    oneparthop_01_arr = []\n",
    "    basisStates = BasisStates(2 * (1 + numBath), 1 + numBath)\n",
    "    U_arr = 1:0.5:20\n",
    "    couplingsArray = [(1, 2, U, 1, -U, 0) for U in U_arr]\n",
    "    computables = [\n",
    "        [\"hh\" (1,2)]; \n",
    "        [\"+-+-\" (1,2,4,3,)]; \n",
    "        [\"+-+-\" (2, 1, 3, 4)]; \n",
    "        [\"++--\" (1,2,4,3,)]; \n",
    "        [\"--++\" (2, 1, 3, 4)]; \n",
    "        [\"+-\" (3,7)]; \n",
    "        [\"+-\" (4,8)];\n",
    "        ]\n",
    "    (imp_hh, d0_spm, d0_smp, d0_cpm, d0_cmp, hop_01up, hop_01dn) = ComputeCorrelations(basisStates, TOSHamiltonianRSpace, couplingsArray, computables)\n",
    "    p = plot(palette = :Set1_9, thickness_scaling = 1.2, fontfamily=\"Roboto-Regular\")\n",
    "    plot!(U_arr, imp_hh, lw=3, label=\"h-occupancy\")\n",
    "    plot!(U_arr, hop_01up .+ hop_01dn, lw=3, label=L\"\\langle c_0^\\dagger c_1\\rangle\")\n",
    "    plot!(U_arr, abs.(d0_spm .+ d0_smp), lw=3, label=L\"\\langle S_d^+S_0^-\\rangle\")\n",
    "    plot!(U_arr, d0_cpm .+ d0_cmp, lw=3, label=L\"\\langle C_d^+ C_0^-\\rangle\")\n",
    "    xlabel!(L\"U/t_\\perp\")\n",
    "    ylabel!(\"correlations\")\n",
    "    display(p)\n",
    "    savefig(p, \"myplot.pdf\")\n",
    "end\n",
    "\n",
    "println(main(6))"
   ]
  }
 ],
 "metadata": {
  "kernelspec": {
   "display_name": "Julia 1.10.0",
   "language": "julia",
   "name": "julia-1.10"
  },
  "language_info": {
   "file_extension": ".jl",
   "mimetype": "application/julia",
   "name": "julia",
   "version": "1.10.0"
  }
 },
 "nbformat": 4,
 "nbformat_minor": 4
}
